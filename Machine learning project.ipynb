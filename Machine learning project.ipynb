{
 "cells": [
  {
   "cell_type": "markdown",
   "id": "227fb52d-8ed9-4d19-b237-0d33a723c7c3",
   "metadata": {},
   "source": [
    "TITANIC SURVIVAL PREDICTION"
   ]
  },
  {
   "cell_type": "code",
   "execution_count": 93,
   "id": "73a2bcdb-5030-4650-81bf-29d8bc82dc8f",
   "metadata": {},
   "outputs": [],
   "source": [
    "import pandas as pd\n",
    "import seaborn as sns\n",
    "sns,set()\n",
    "import matplotlib.pyplot as plt\n",
    "from sklearn.model_selection import *\n",
    "from sklearn.metrics import *# star means we are importing all the metrices\n",
    "#ignoring warnings in the code\n",
    "import warnings\n",
    "warnings.filterwarnings('ignore')"
   ]
  },
  {
   "cell_type": "code",
   "execution_count": 94,
   "id": "644883a6-0485-4848-86b2-077c7e4e3c92",
   "metadata": {},
   "outputs": [],
   "source": [
    "train_data=pd.read_csv(r\"C:\\Users\\naths\\ML\\train.csv\")"
   ]
  },
  {
   "cell_type": "code",
   "execution_count": 95,
   "id": "f8376507-5b5f-4932-aa64-b3d02003f83e",
   "metadata": {},
   "outputs": [
    {
     "data": {
      "text/html": [
       "<div>\n",
       "<style scoped>\n",
       "    .dataframe tbody tr th:only-of-type {\n",
       "        vertical-align: middle;\n",
       "    }\n",
       "\n",
       "    .dataframe tbody tr th {\n",
       "        vertical-align: top;\n",
       "    }\n",
       "\n",
       "    .dataframe thead th {\n",
       "        text-align: right;\n",
       "    }\n",
       "</style>\n",
       "<table border=\"1\" class=\"dataframe\">\n",
       "  <thead>\n",
       "    <tr style=\"text-align: right;\">\n",
       "      <th></th>\n",
       "      <th>PassengerId</th>\n",
       "      <th>Survived</th>\n",
       "      <th>Pclass</th>\n",
       "      <th>Name</th>\n",
       "      <th>Sex</th>\n",
       "      <th>Age</th>\n",
       "      <th>SibSp</th>\n",
       "      <th>Parch</th>\n",
       "      <th>Ticket</th>\n",
       "      <th>Fare</th>\n",
       "      <th>Cabin</th>\n",
       "      <th>Embarked</th>\n",
       "    </tr>\n",
       "  </thead>\n",
       "  <tbody>\n",
       "    <tr>\n",
       "      <th>0</th>\n",
       "      <td>1</td>\n",
       "      <td>0</td>\n",
       "      <td>3</td>\n",
       "      <td>Braund, Mr. Owen Harris</td>\n",
       "      <td>male</td>\n",
       "      <td>22.0</td>\n",
       "      <td>1</td>\n",
       "      <td>0</td>\n",
       "      <td>A/5 21171</td>\n",
       "      <td>7.2500</td>\n",
       "      <td>NaN</td>\n",
       "      <td>S</td>\n",
       "    </tr>\n",
       "    <tr>\n",
       "      <th>1</th>\n",
       "      <td>2</td>\n",
       "      <td>1</td>\n",
       "      <td>1</td>\n",
       "      <td>Cumings, Mrs. John Bradley (Florence Briggs Th...</td>\n",
       "      <td>female</td>\n",
       "      <td>38.0</td>\n",
       "      <td>1</td>\n",
       "      <td>0</td>\n",
       "      <td>PC 17599</td>\n",
       "      <td>71.2833</td>\n",
       "      <td>C85</td>\n",
       "      <td>C</td>\n",
       "    </tr>\n",
       "    <tr>\n",
       "      <th>2</th>\n",
       "      <td>3</td>\n",
       "      <td>1</td>\n",
       "      <td>3</td>\n",
       "      <td>Heikkinen, Miss. Laina</td>\n",
       "      <td>female</td>\n",
       "      <td>26.0</td>\n",
       "      <td>0</td>\n",
       "      <td>0</td>\n",
       "      <td>STON/O2. 3101282</td>\n",
       "      <td>7.9250</td>\n",
       "      <td>NaN</td>\n",
       "      <td>S</td>\n",
       "    </tr>\n",
       "    <tr>\n",
       "      <th>3</th>\n",
       "      <td>4</td>\n",
       "      <td>1</td>\n",
       "      <td>1</td>\n",
       "      <td>Futrelle, Mrs. Jacques Heath (Lily May Peel)</td>\n",
       "      <td>female</td>\n",
       "      <td>35.0</td>\n",
       "      <td>1</td>\n",
       "      <td>0</td>\n",
       "      <td>113803</td>\n",
       "      <td>53.1000</td>\n",
       "      <td>C123</td>\n",
       "      <td>S</td>\n",
       "    </tr>\n",
       "    <tr>\n",
       "      <th>4</th>\n",
       "      <td>5</td>\n",
       "      <td>0</td>\n",
       "      <td>3</td>\n",
       "      <td>Allen, Mr. William Henry</td>\n",
       "      <td>male</td>\n",
       "      <td>35.0</td>\n",
       "      <td>0</td>\n",
       "      <td>0</td>\n",
       "      <td>373450</td>\n",
       "      <td>8.0500</td>\n",
       "      <td>NaN</td>\n",
       "      <td>S</td>\n",
       "    </tr>\n",
       "  </tbody>\n",
       "</table>\n",
       "</div>"
      ],
      "text/plain": [
       "   PassengerId  Survived  Pclass  \\\n",
       "0            1         0       3   \n",
       "1            2         1       1   \n",
       "2            3         1       3   \n",
       "3            4         1       1   \n",
       "4            5         0       3   \n",
       "\n",
       "                                                Name     Sex   Age  SibSp  \\\n",
       "0                            Braund, Mr. Owen Harris    male  22.0      1   \n",
       "1  Cumings, Mrs. John Bradley (Florence Briggs Th...  female  38.0      1   \n",
       "2                             Heikkinen, Miss. Laina  female  26.0      0   \n",
       "3       Futrelle, Mrs. Jacques Heath (Lily May Peel)  female  35.0      1   \n",
       "4                           Allen, Mr. William Henry    male  35.0      0   \n",
       "\n",
       "   Parch            Ticket     Fare Cabin Embarked  \n",
       "0      0         A/5 21171   7.2500   NaN        S  \n",
       "1      0          PC 17599  71.2833   C85        C  \n",
       "2      0  STON/O2. 3101282   7.9250   NaN        S  \n",
       "3      0            113803  53.1000  C123        S  \n",
       "4      0            373450   8.0500   NaN        S  "
      ]
     },
     "execution_count": 95,
     "metadata": {},
     "output_type": "execute_result"
    }
   ],
   "source": [
    "train_data.head()"
   ]
  },
  {
   "cell_type": "code",
   "execution_count": 96,
   "id": "0a693533-c0e5-4a1f-bf0d-44e827c7c0fe",
   "metadata": {},
   "outputs": [
    {
     "data": {
      "text/plain": [
       "(891, 12)"
      ]
     },
     "execution_count": 96,
     "metadata": {},
     "output_type": "execute_result"
    }
   ],
   "source": [
    "train_data.shape"
   ]
  },
  {
   "cell_type": "code",
   "execution_count": 97,
   "id": "49dc4616-ffef-4c27-a398-eed1de28a7e3",
   "metadata": {},
   "outputs": [
    {
     "data": {
      "text/plain": [
       "PassengerId    891\n",
       "Survived         2\n",
       "Pclass           3\n",
       "Name           891\n",
       "Sex              2\n",
       "Age             88\n",
       "SibSp            7\n",
       "Parch            7\n",
       "Ticket         681\n",
       "Fare           248\n",
       "Cabin          147\n",
       "Embarked         3\n",
       "dtype: int64"
      ]
     },
     "execution_count": 97,
     "metadata": {},
     "output_type": "execute_result"
    }
   ],
   "source": [
    "train_data.nunique() # all unique value"
   ]
  },
  {
   "cell_type": "code",
   "execution_count": 98,
   "id": "be7b28df-eadc-45a1-beef-ae1eef8d01a4",
   "metadata": {},
   "outputs": [
    {
     "data": {
      "text/plain": [
       "Index(['PassengerId', 'Survived', 'Pclass', 'Name', 'Sex', 'Age', 'SibSp',\n",
       "       'Parch', 'Ticket', 'Fare', 'Cabin', 'Embarked'],\n",
       "      dtype='object')"
      ]
     },
     "execution_count": 98,
     "metadata": {},
     "output_type": "execute_result"
    }
   ],
   "source": [
    "train_data.columns # all the name of the column"
   ]
  },
  {
   "cell_type": "code",
   "execution_count": 99,
   "id": "7ee1e8a3-364b-4313-9b45-0cc730b11ebd",
   "metadata": {},
   "outputs": [
    {
     "name": "stdout",
     "output_type": "stream",
     "text": [
      "<class 'pandas.core.frame.DataFrame'>\n",
      "RangeIndex: 891 entries, 0 to 890\n",
      "Data columns (total 12 columns):\n",
      " #   Column       Non-Null Count  Dtype  \n",
      "---  ------       --------------  -----  \n",
      " 0   PassengerId  891 non-null    int64  \n",
      " 1   Survived     891 non-null    int64  \n",
      " 2   Pclass       891 non-null    int64  \n",
      " 3   Name         891 non-null    object \n",
      " 4   Sex          891 non-null    object \n",
      " 5   Age          714 non-null    float64\n",
      " 6   SibSp        891 non-null    int64  \n",
      " 7   Parch        891 non-null    int64  \n",
      " 8   Ticket       891 non-null    object \n",
      " 9   Fare         891 non-null    float64\n",
      " 10  Cabin        204 non-null    object \n",
      " 11  Embarked     889 non-null    object \n",
      "dtypes: float64(2), int64(5), object(5)\n",
      "memory usage: 83.7+ KB\n"
     ]
    }
   ],
   "source": [
    "train_data.info() \n",
    "#information about dataset each column checking each column in right data type"
   ]
  },
  {
   "cell_type": "raw",
   "id": "f2c40e11-1824-4be4-8ff4-6b50cc89be0e",
   "metadata": {},
   "source": [
    "#if not use as type\n",
    "#train_data['survived']=train_data['survived'].astype(int)"
   ]
  },
  {
   "cell_type": "code",
   "execution_count": 100,
   "id": "3fcc2de0-4195-44be-ac81-fbbba9750645",
   "metadata": {},
   "outputs": [
    {
     "data": {
      "text/plain": [
       "866"
      ]
     },
     "execution_count": 100,
     "metadata": {},
     "output_type": "execute_result"
    }
   ],
   "source": [
    "#total missing value in the data set\n",
    "train_data.isna().sum().sum()"
   ]
  },
  {
   "cell_type": "code",
   "execution_count": 101,
   "id": "ef3495e0-f7a7-4054-bc86-f58e98c4097a",
   "metadata": {},
   "outputs": [
    {
     "data": {
      "text/plain": [
       "PassengerId      0\n",
       "Survived         0\n",
       "Pclass           0\n",
       "Name             0\n",
       "Sex              0\n",
       "Age            177\n",
       "SibSp            0\n",
       "Parch            0\n",
       "Ticket           0\n",
       "Fare             0\n",
       "Cabin          687\n",
       "Embarked         2\n",
       "dtype: int64"
      ]
     },
     "execution_count": 101,
     "metadata": {},
     "output_type": "execute_result"
    }
   ],
   "source": [
    "train_data.isna().sum() # collecting all null values in the dataset isnull=isna"
   ]
  },
  {
   "cell_type": "code",
   "execution_count": 102,
   "id": "7536ec52-0300-43e5-a55a-c5d5f530e9eb",
   "metadata": {},
   "outputs": [
    {
     "data": {
      "text/plain": [
       "PassengerId     0.000000\n",
       "Survived        0.000000\n",
       "Pclass          0.000000\n",
       "Name            0.000000\n",
       "Sex             0.000000\n",
       "Age            19.865320\n",
       "SibSp           0.000000\n",
       "Parch           0.000000\n",
       "Ticket          0.000000\n",
       "Fare            0.000000\n",
       "Cabin          77.104377\n",
       "Embarked        0.224467\n",
       "dtype: float64"
      ]
     },
     "execution_count": 102,
     "metadata": {},
     "output_type": "execute_result"
    }
   ],
   "source": [
    "#calculating the pecentage of the null values\n",
    "(train_data.isnull().sum()/(len(train_data)))*100"
   ]
  },
  {
   "cell_type": "code",
   "execution_count": 103,
   "id": "7cfa8dc4-e931-428f-abef-2a6277d49cdb",
   "metadata": {},
   "outputs": [
    {
     "data": {
      "text/plain": [
       "Sex\n",
       "female    27.915709\n",
       "male      30.726645\n",
       "Name: Age, dtype: float64"
      ]
     },
     "execution_count": 103,
     "metadata": {},
     "output_type": "execute_result"
    }
   ],
   "source": [
    "#filling the nan values\n",
    "train_data.groupby('Sex')['Age'].mean()"
   ]
  },
  {
   "cell_type": "code",
   "execution_count": 104,
   "id": "d9ecd7e7-e6c9-44a6-b543-dfc0a9177edc",
   "metadata": {},
   "outputs": [
    {
     "data": {
      "text/html": [
       "<div>\n",
       "<style scoped>\n",
       "    .dataframe tbody tr th:only-of-type {\n",
       "        vertical-align: middle;\n",
       "    }\n",
       "\n",
       "    .dataframe tbody tr th {\n",
       "        vertical-align: top;\n",
       "    }\n",
       "\n",
       "    .dataframe thead th {\n",
       "        text-align: right;\n",
       "    }\n",
       "</style>\n",
       "<table border=\"1\" class=\"dataframe\">\n",
       "  <thead>\n",
       "    <tr style=\"text-align: right;\">\n",
       "      <th></th>\n",
       "      <th>count</th>\n",
       "      <th>mean</th>\n",
       "      <th>std</th>\n",
       "      <th>min</th>\n",
       "      <th>25%</th>\n",
       "      <th>50%</th>\n",
       "      <th>75%</th>\n",
       "      <th>max</th>\n",
       "    </tr>\n",
       "  </thead>\n",
       "  <tbody>\n",
       "    <tr>\n",
       "      <th>PassengerId</th>\n",
       "      <td>891.0</td>\n",
       "      <td>446.000000</td>\n",
       "      <td>257.353842</td>\n",
       "      <td>1.00</td>\n",
       "      <td>223.5000</td>\n",
       "      <td>446.0000</td>\n",
       "      <td>668.5</td>\n",
       "      <td>891.0000</td>\n",
       "    </tr>\n",
       "    <tr>\n",
       "      <th>Survived</th>\n",
       "      <td>891.0</td>\n",
       "      <td>0.383838</td>\n",
       "      <td>0.486592</td>\n",
       "      <td>0.00</td>\n",
       "      <td>0.0000</td>\n",
       "      <td>0.0000</td>\n",
       "      <td>1.0</td>\n",
       "      <td>1.0000</td>\n",
       "    </tr>\n",
       "    <tr>\n",
       "      <th>Pclass</th>\n",
       "      <td>891.0</td>\n",
       "      <td>2.308642</td>\n",
       "      <td>0.836071</td>\n",
       "      <td>1.00</td>\n",
       "      <td>2.0000</td>\n",
       "      <td>3.0000</td>\n",
       "      <td>3.0</td>\n",
       "      <td>3.0000</td>\n",
       "    </tr>\n",
       "    <tr>\n",
       "      <th>Age</th>\n",
       "      <td>714.0</td>\n",
       "      <td>29.699118</td>\n",
       "      <td>14.526497</td>\n",
       "      <td>0.42</td>\n",
       "      <td>20.1250</td>\n",
       "      <td>28.0000</td>\n",
       "      <td>38.0</td>\n",
       "      <td>80.0000</td>\n",
       "    </tr>\n",
       "    <tr>\n",
       "      <th>SibSp</th>\n",
       "      <td>891.0</td>\n",
       "      <td>0.523008</td>\n",
       "      <td>1.102743</td>\n",
       "      <td>0.00</td>\n",
       "      <td>0.0000</td>\n",
       "      <td>0.0000</td>\n",
       "      <td>1.0</td>\n",
       "      <td>8.0000</td>\n",
       "    </tr>\n",
       "    <tr>\n",
       "      <th>Parch</th>\n",
       "      <td>891.0</td>\n",
       "      <td>0.381594</td>\n",
       "      <td>0.806057</td>\n",
       "      <td>0.00</td>\n",
       "      <td>0.0000</td>\n",
       "      <td>0.0000</td>\n",
       "      <td>0.0</td>\n",
       "      <td>6.0000</td>\n",
       "    </tr>\n",
       "    <tr>\n",
       "      <th>Fare</th>\n",
       "      <td>891.0</td>\n",
       "      <td>32.204208</td>\n",
       "      <td>49.693429</td>\n",
       "      <td>0.00</td>\n",
       "      <td>7.9104</td>\n",
       "      <td>14.4542</td>\n",
       "      <td>31.0</td>\n",
       "      <td>512.3292</td>\n",
       "    </tr>\n",
       "  </tbody>\n",
       "</table>\n",
       "</div>"
      ],
      "text/plain": [
       "             count        mean         std   min       25%       50%    75%  \\\n",
       "PassengerId  891.0  446.000000  257.353842  1.00  223.5000  446.0000  668.5   \n",
       "Survived     891.0    0.383838    0.486592  0.00    0.0000    0.0000    1.0   \n",
       "Pclass       891.0    2.308642    0.836071  1.00    2.0000    3.0000    3.0   \n",
       "Age          714.0   29.699118   14.526497  0.42   20.1250   28.0000   38.0   \n",
       "SibSp        891.0    0.523008    1.102743  0.00    0.0000    0.0000    1.0   \n",
       "Parch        891.0    0.381594    0.806057  0.00    0.0000    0.0000    0.0   \n",
       "Fare         891.0   32.204208   49.693429  0.00    7.9104   14.4542   31.0   \n",
       "\n",
       "                  max  \n",
       "PassengerId  891.0000  \n",
       "Survived       1.0000  \n",
       "Pclass         3.0000  \n",
       "Age           80.0000  \n",
       "SibSp          8.0000  \n",
       "Parch          6.0000  \n",
       "Fare         512.3292  "
      ]
     },
     "execution_count": 104,
     "metadata": {},
     "output_type": "execute_result"
    }
   ],
   "source": [
    "#describing the data set.T means transposing data \n",
    "train_data.describe().T"
   ]
  },
  {
   "cell_type": "code",
   "execution_count": 105,
   "id": "f3d7e2ce-0125-4804-aa3a-c42eaa2f2fc6",
   "metadata": {},
   "outputs": [
    {
     "data": {
      "text/html": [
       "<div>\n",
       "<style scoped>\n",
       "    .dataframe tbody tr th:only-of-type {\n",
       "        vertical-align: middle;\n",
       "    }\n",
       "\n",
       "    .dataframe tbody tr th {\n",
       "        vertical-align: top;\n",
       "    }\n",
       "\n",
       "    .dataframe thead th {\n",
       "        text-align: right;\n",
       "    }\n",
       "</style>\n",
       "<table border=\"1\" class=\"dataframe\">\n",
       "  <thead>\n",
       "    <tr style=\"text-align: right;\">\n",
       "      <th></th>\n",
       "      <th>PassengerId</th>\n",
       "      <th>Survived</th>\n",
       "      <th>Pclass</th>\n",
       "      <th>Name</th>\n",
       "      <th>Sex</th>\n",
       "      <th>Age</th>\n",
       "      <th>SibSp</th>\n",
       "      <th>Parch</th>\n",
       "      <th>Ticket</th>\n",
       "      <th>Fare</th>\n",
       "      <th>Cabin</th>\n",
       "      <th>Embarked</th>\n",
       "    </tr>\n",
       "  </thead>\n",
       "  <tbody>\n",
       "    <tr>\n",
       "      <th>630</th>\n",
       "      <td>631</td>\n",
       "      <td>1</td>\n",
       "      <td>1</td>\n",
       "      <td>Barkworth, Mr. Algernon Henry Wilson</td>\n",
       "      <td>male</td>\n",
       "      <td>80.0</td>\n",
       "      <td>0</td>\n",
       "      <td>0</td>\n",
       "      <td>27042</td>\n",
       "      <td>30.0</td>\n",
       "      <td>A23</td>\n",
       "      <td>S</td>\n",
       "    </tr>\n",
       "  </tbody>\n",
       "</table>\n",
       "</div>"
      ],
      "text/plain": [
       "     PassengerId  Survived  Pclass                                  Name  \\\n",
       "630          631         1       1  Barkworth, Mr. Algernon Henry Wilson   \n",
       "\n",
       "      Sex   Age  SibSp  Parch Ticket  Fare Cabin Embarked  \n",
       "630  male  80.0      0      0  27042  30.0   A23        S  "
      ]
     },
     "execution_count": 105,
     "metadata": {},
     "output_type": "execute_result"
    }
   ],
   "source": [
    "#finfing the detail of maximum age person\n",
    "train_data[train_data['Age']==80]"
   ]
  },
  {
   "cell_type": "code",
   "execution_count": 106,
   "id": "bf657773-e1d6-4b3d-8e34-f14f1c6b9c97",
   "metadata": {},
   "outputs": [
    {
     "data": {
      "text/plain": [
       "342"
      ]
     },
     "execution_count": 106,
     "metadata": {},
     "output_type": "execute_result"
    }
   ],
   "source": [
    "train_data.Survived.sum()# number of survival"
   ]
  },
  {
   "cell_type": "code",
   "execution_count": 107,
   "id": "c31062dd-380b-4e66-ac2c-abd3502f7b0a",
   "metadata": {},
   "outputs": [
    {
     "data": {
      "text/plain": [
       "891"
      ]
     },
     "execution_count": 107,
     "metadata": {},
     "output_type": "execute_result"
    }
   ],
   "source": [
    "train_data.Survived.count()# number of pessenger "
   ]
  },
  {
   "cell_type": "code",
   "execution_count": 108,
   "id": "c3a25c63-0c30-4b19-8c46-608b233d5352",
   "metadata": {},
   "outputs": [
    {
     "data": {
      "text/plain": [
       "549"
      ]
     },
     "execution_count": 108,
     "metadata": {},
     "output_type": "execute_result"
    }
   ],
   "source": [
    "y=(train_data.Survived.count())-(train_data.Survived.sum())\n",
    "y #not survived"
   ]
  },
  {
   "cell_type": "code",
   "execution_count": 109,
   "id": "25664ac8-86f5-4c96-b87b-5626084c37cd",
   "metadata": {},
   "outputs": [
    {
     "data": {
      "text/plain": [
       "[Text(0.5, 0, 'Survival status'),\n",
       " Text(0, 0.5, 'Counts'),\n",
       " Text(0.5, 1.0, 'Survival status')]"
      ]
     },
     "execution_count": 109,
     "metadata": {},
     "output_type": "execute_result"
    },
    {
     "data": {
      "image/png": "[encoded data removed]",
      "text/plain": [
       "<Figure size 640x480 with 1 Axes>"
      ]
     },
     "metadata": {},
     "output_type": "display_data"
    }
   ],
   "source": [
    "sns.countplot(data=train_data, x='Survived').set(xlabel='Survival status', ylabel='Counts', title='Survival status')"
   ]
  },
  {
   "cell_type": "code",
   "execution_count": 110,
   "id": "754e06bf-e86f-446d-8907-5673d5fc6793",
   "metadata": {},
   "outputs": [
    {
     "data": {
      "text/plain": [
       "<Axes: xlabel='Survived', ylabel='count'>"
      ]
     },
     "execution_count": 110,
     "metadata": {},
     "output_type": "execute_result"
    },
    {
     "data": {
      "image/png": "[encoded data removed]",
      "text/plain": [
       "<Figure size 640x480 with 1 Axes>"
      ]
     },
     "metadata": {},
     "output_type": "display_data"
    }
   ],
   "source": [
    "sns.countplot(data=train_data,x='Survived',hue='Sex')"
   ]
  },
  {
   "cell_type": "code",
   "execution_count": 111,
   "id": "09b2de1b-9b3d-4abb-a694-626abee2880a",
   "metadata": {},
   "outputs": [
    {
     "data": {
      "text/plain": [
       "<Axes: xlabel='Pclass', ylabel='Age'>"
      ]
     },
     "execution_count": 111,
     "metadata": {},
     "output_type": "execute_result"
    },
    {
     "data": {
      "image/png": "[encoded data removed]",
      "text/plain": [
       "<Figure size 1500x1500 with 1 Axes>"
      ]
     },
     "metadata": {},
     "output_type": "display_data"
    }
   ],
   "source": [
    "#outliers which is odd in data \n",
    "plt.figure(figsize=(15,15))\n",
    "plt.subplot(3,2,6)\n",
    "sns.boxplot(x='Pclass',y='Age',data=train_data)"
   ]
  },
  {
   "cell_type": "code",
   "execution_count": 112,
   "id": "74e86db2-73ac-4faf-87c8-5bebdba66918",
   "metadata": {},
   "outputs": [
    {
     "data": {
      "text/plain": [
       "<Axes: xlabel='Survived', ylabel='Density'>"
      ]
     },
     "execution_count": 112,
     "metadata": {},
     "output_type": "execute_result"
    },
    {
     "data": {
      "image/png": "[encoded data removed]",
      "text/plain": [
       "<Figure size 640x480 with 1 Axes>"
      ]
     },
     "metadata": {},
     "output_type": "display_data"
    }
   ],
   "source": [
    "sns.kdeplot(data=train_data,x='Survived')"
   ]
  },
  {
   "cell_type": "code",
   "execution_count": 113,
   "id": "3ed1f58c-11af-4a94-84df-531be55818b6",
   "metadata": {},
   "outputs": [
    {
     "data": {
      "text/plain": [
       "74.20382165605095"
      ]
     },
     "execution_count": 113,
     "metadata": {},
     "output_type": "execute_result"
    }
   ],
   "source": [
    "#percentage of women to survived\n",
    "women=train_data.loc[train_data.Sex=='female']['Survived']\n",
    "rate_women=(sum(women)/len(women))*100\n",
    "rate_women"
   ]
  },
  {
   "cell_type": "code",
   "execution_count": 114,
   "id": "8501f046-8ad4-4963-a598-5152e727cf02",
   "metadata": {},
   "outputs": [
    {
     "data": {
      "text/plain": [
       "18.890814558058924"
      ]
     },
     "execution_count": 114,
     "metadata": {},
     "output_type": "execute_result"
    }
   ],
   "source": [
    "#percentage of men to survived\n",
    "men=train_data.loc[train_data.Sex=='male']['Survived']\n",
    "rate_men=(sum(men)/len(men))*100\n",
    "rate_men"
   ]
  },
  {
   "cell_type": "code",
   "execution_count": 115,
   "id": "020ed20d-746b-41a1-aca5-c81fcdb3683e",
   "metadata": {},
   "outputs": [
    {
     "data": {
      "text/plain": [
       "-0.33848103596101514"
      ]
     },
     "execution_count": 115,
     "metadata": {},
     "output_type": "execute_result"
    }
   ],
   "source": [
    "#correelation between plcass and survived\n",
    "from scipy.stats import pearsonr\n",
    "corr,_=pearsonr(train_data['Pclass'],train_data['Survived'])\n",
    "corr"
   ]
  },
  {
   "cell_type": "raw",
   "id": "c059cc61-bd7b-42cc-8441-5821e11dd0f1",
   "metadata": {},
   "source": [
    "The Pearson correlation coefficient is a measure of the linear relationship between two variables. It ranges from -1 to 1, where:\n",
    "1 indicates a perfect positive linear relationship,\n",
    "-1 indicates a perfect negative linear relationship,\n",
    "0 indicates no linear relationship.\n",
    "The pearsonr function returns two values:\n",
    "corr: The Pearson correlation coefficient itself.\n",
    "_: The p-value associated with the correlation coefficient, which is used to determine the statistical significance of the correlation. The underscore _ is used as a placeholder to ignore this value since it's not being used in the current context."
   ]
  },
  {
   "cell_type": "code",
   "execution_count": 116,
   "id": "cf664b1e-e196-416a-9c69-52a98638bd08",
   "metadata": {},
   "outputs": [],
   "source": [
    "num=train_data.select_dtypes(exclude='object')"
   ]
  },
  {
   "cell_type": "code",
   "execution_count": 117,
   "id": "1c15b413-afa9-4979-a56d-0b730dcc7a72",
   "metadata": {},
   "outputs": [
    {
     "data": {
      "text/plain": [
       "<Axes: >"
      ]
     },
     "execution_count": 117,
     "metadata": {},
     "output_type": "execute_result"
    },
    {
     "data": {
      "image/png": "[encoded data removed]",
      "text/plain": [
       "<Figure size 640x480 with 2 Axes>"
      ]
     },
     "metadata": {},
     "output_type": "display_data"
    }
   ],
   "source": [
    "sns.heatmap(num.corr(),annot=True)"
   ]
  },
  {
   "cell_type": "code",
   "execution_count": 118,
   "id": "0652ee44-f788-4f10-b748-e09861fae0bd",
   "metadata": {},
   "outputs": [
    {
     "data": {
      "text/plain": [
       "Pclass\n",
       "1    37.0\n",
       "2    29.0\n",
       "3    24.0\n",
       "Name: Age, dtype: float64"
      ]
     },
     "execution_count": 118,
     "metadata": {},
     "output_type": "execute_result"
    }
   ],
   "source": [
    "train_data.groupby('Pclass')['Age'].median()"
   ]
  },
  {
   "cell_type": "code",
   "execution_count": 119,
   "id": "d3bbd339-9e24-495d-ae1c-c85fe30242c3",
   "metadata": {},
   "outputs": [],
   "source": [
    "# Replacing null values in Age based on Pclass\n",
    "def new_age(cols):\n",
    "    Age = cols[0]\n",
    "    Pclass = cols[1]\n",
    "    \n",
    "    if pd.isnull(Age):\n",
    "        if Pclass == 1:\n",
    "            return train_data[train_data['Pclass'] == 1]['Age'].median()\n",
    "        elif Pclass == 2:\n",
    "            return train_data[train_data['Pclass'] == 2]['Age'].median()\n",
    "        elif Pclass == 3:\n",
    "            return train_data[train_data['Pclass'] == 3]['Age'].median()\n",
    "    else:\n",
    "        return Age"
   ]
  },
  {
   "cell_type": "code",
   "execution_count": 120,
   "id": "960c3894-5725-40ab-94da-6aa29d8ea49f",
   "metadata": {},
   "outputs": [],
   "source": [
    "# Mapping function to convert categorical variables into numerical\n",
    "def mapping_data(train_data):\n",
    "    train_data.Sex = train_data.Sex.map({'female': 0, 'male': 1})\n",
    "    train_data.Embarked = train_data.Embarked.map({'S': 0, 'C': 1, 'Q': 2})\n",
    "    return train_data"
   ]
  },
  {
   "cell_type": "code",
   "execution_count": 121,
   "id": "aec256ee-944b-4378-a867-5e300696e144",
   "metadata": {},
   "outputs": [],
   "source": [
    "def preprocessing(train_data, data_type):\n",
    "    if data_type == 'train':\n",
    "        train_data['Age'] = train_data[['Age', 'Pclass']].apply(new_age, axis=1)\n",
    "        train_data = mapping_data(train_data)\n",
    "        train_data.drop('Cabin', axis=1, inplace=True)\n",
    "        train_data.dropna(inplace=True)\n",
    "        train_data.drop(['Name', 'PassengerId', 'Ticket'], axis=1, inplace=True)\n",
    "        \n",
    "        # Normalize Age and Fare\n",
    "        min_age = min(train_data.Age)\n",
    "        max_age = max(train_data.Age)\n",
    "        min_fare = min(train_data.Fare)\n",
    "        max_fare = max(train_data.Fare)\n",
    "        \n",
    "        train_data.Age = (train_data.Age - min_age) / (max_age - min_age)\n",
    "        train_data.Fare = (train_data.Fare - min_fare) / (max_fare - min_fare)\n",
    "        \n",
    "        x_data = train_data.drop('Survived', axis=1)\n",
    "        y_data = train_data['Survived']\n",
    "        return x_data, y_data\n",
    "    \n",
    "    else:\n",
    "        train_data['Age'] = train_data[['Age', 'Pclass']].apply(new_age, axis=1)\n",
    "        train_data = mapping_data(train_data)\n",
    "        train_data.drop('Cabin', axis=1, inplace=True)\n",
    "        train_data.dropna(inplace=True)\n",
    "        train_data.drop(['Name', 'PassengerId', 'Ticket'], axis=1, inplace=True)\n",
    "        \n",
    "        # Normalize Age and Fare\n",
    "        min_age = min(train_data.Age)\n",
    "        max_age = max(train_data.Age)\n",
    "        min_fare = min(train_data.Fare)\n",
    "        max_fare = max(train_data.Fare)\n",
    "        \n",
    "        train_data.Age = (train_data.Age - min_age) / (max_age - min_age)\n",
    "        train_data.Fare = (train_data.Fare - min_fare) / (max_fare - min_fare)\n",
    "        return train_data"
   ]
  },
  {
   "cell_type": "code",
   "execution_count": 122,
   "id": "c49fa6d5-ba26-4aa2-beb2-81f17f0800a0",
   "metadata": {},
   "outputs": [],
   "source": [
    "# Preprocessing the data\n",
    "x_data, y_data = preprocessing(train_data, 'train')"
   ]
  },
  {
   "cell_type": "code",
   "execution_count": 123,
   "id": "1669ecef-6711-46f7-9a46-bfaf36d1ce49",
   "metadata": {},
   "outputs": [
    {
     "data": {
      "text/html": [
       "<div>\n",
       "<style scoped>\n",
       "    .dataframe tbody tr th:only-of-type {\n",
       "        vertical-align: middle;\n",
       "    }\n",
       "\n",
       "    .dataframe tbody tr th {\n",
       "        vertical-align: top;\n",
       "    }\n",
       "\n",
       "    .dataframe thead th {\n",
       "        text-align: right;\n",
       "    }\n",
       "</style>\n",
       "<table border=\"1\" class=\"dataframe\">\n",
       "  <thead>\n",
       "    <tr style=\"text-align: right;\">\n",
       "      <th></th>\n",
       "      <th>Pclass</th>\n",
       "      <th>Sex</th>\n",
       "      <th>Age</th>\n",
       "      <th>SibSp</th>\n",
       "      <th>Parch</th>\n",
       "      <th>Fare</th>\n",
       "      <th>Embarked</th>\n",
       "    </tr>\n",
       "  </thead>\n",
       "  <tbody>\n",
       "    <tr>\n",
       "      <th>0</th>\n",
       "      <td>3</td>\n",
       "      <td>1</td>\n",
       "      <td>0.271174</td>\n",
       "      <td>1</td>\n",
       "      <td>0</td>\n",
       "      <td>0.014151</td>\n",
       "      <td>0.0</td>\n",
       "    </tr>\n",
       "    <tr>\n",
       "      <th>1</th>\n",
       "      <td>1</td>\n",
       "      <td>0</td>\n",
       "      <td>0.472229</td>\n",
       "      <td>1</td>\n",
       "      <td>0</td>\n",
       "      <td>0.139136</td>\n",
       "      <td>1.0</td>\n",
       "    </tr>\n",
       "    <tr>\n",
       "      <th>2</th>\n",
       "      <td>3</td>\n",
       "      <td>0</td>\n",
       "      <td>0.321438</td>\n",
       "      <td>0</td>\n",
       "      <td>0</td>\n",
       "      <td>0.015469</td>\n",
       "      <td>0.0</td>\n",
       "    </tr>\n",
       "    <tr>\n",
       "      <th>3</th>\n",
       "      <td>1</td>\n",
       "      <td>0</td>\n",
       "      <td>0.434531</td>\n",
       "      <td>1</td>\n",
       "      <td>0</td>\n",
       "      <td>0.103644</td>\n",
       "      <td>0.0</td>\n",
       "    </tr>\n",
       "    <tr>\n",
       "      <th>4</th>\n",
       "      <td>3</td>\n",
       "      <td>1</td>\n",
       "      <td>0.434531</td>\n",
       "      <td>0</td>\n",
       "      <td>0</td>\n",
       "      <td>0.015713</td>\n",
       "      <td>0.0</td>\n",
       "    </tr>\n",
       "    <tr>\n",
       "      <th>...</th>\n",
       "      <td>...</td>\n",
       "      <td>...</td>\n",
       "      <td>...</td>\n",
       "      <td>...</td>\n",
       "      <td>...</td>\n",
       "      <td>...</td>\n",
       "      <td>...</td>\n",
       "    </tr>\n",
       "    <tr>\n",
       "      <th>886</th>\n",
       "      <td>2</td>\n",
       "      <td>1</td>\n",
       "      <td>0.334004</td>\n",
       "      <td>0</td>\n",
       "      <td>0</td>\n",
       "      <td>0.025374</td>\n",
       "      <td>0.0</td>\n",
       "    </tr>\n",
       "    <tr>\n",
       "      <th>887</th>\n",
       "      <td>1</td>\n",
       "      <td>0</td>\n",
       "      <td>0.233476</td>\n",
       "      <td>0</td>\n",
       "      <td>0</td>\n",
       "      <td>0.058556</td>\n",
       "      <td>0.0</td>\n",
       "    </tr>\n",
       "    <tr>\n",
       "      <th>888</th>\n",
       "      <td>3</td>\n",
       "      <td>0</td>\n",
       "      <td>0.296306</td>\n",
       "      <td>1</td>\n",
       "      <td>2</td>\n",
       "      <td>0.045771</td>\n",
       "      <td>0.0</td>\n",
       "    </tr>\n",
       "    <tr>\n",
       "      <th>889</th>\n",
       "      <td>1</td>\n",
       "      <td>1</td>\n",
       "      <td>0.321438</td>\n",
       "      <td>0</td>\n",
       "      <td>0</td>\n",
       "      <td>0.058556</td>\n",
       "      <td>1.0</td>\n",
       "    </tr>\n",
       "    <tr>\n",
       "      <th>890</th>\n",
       "      <td>3</td>\n",
       "      <td>1</td>\n",
       "      <td>0.396833</td>\n",
       "      <td>0</td>\n",
       "      <td>0</td>\n",
       "      <td>0.015127</td>\n",
       "      <td>2.0</td>\n",
       "    </tr>\n",
       "  </tbody>\n",
       "</table>\n",
       "<p>889 rows × 7 columns</p>\n",
       "</div>"
      ],
      "text/plain": [
       "     Pclass  Sex       Age  SibSp  Parch      Fare  Embarked\n",
       "0         3    1  0.271174      1      0  0.014151       0.0\n",
       "1         1    0  0.472229      1      0  0.139136       1.0\n",
       "2         3    0  0.321438      0      0  0.015469       0.0\n",
       "3         1    0  0.434531      1      0  0.103644       0.0\n",
       "4         3    1  0.434531      0      0  0.015713       0.0\n",
       "..      ...  ...       ...    ...    ...       ...       ...\n",
       "886       2    1  0.334004      0      0  0.025374       0.0\n",
       "887       1    0  0.233476      0      0  0.058556       0.0\n",
       "888       3    0  0.296306      1      2  0.045771       0.0\n",
       "889       1    1  0.321438      0      0  0.058556       1.0\n",
       "890       3    1  0.396833      0      0  0.015127       2.0\n",
       "\n",
       "[889 rows x 7 columns]"
      ]
     },
     "execution_count": 123,
     "metadata": {},
     "output_type": "execute_result"
    }
   ],
   "source": [
    "x_data"
   ]
  },
  {
   "cell_type": "code",
   "execution_count": 124,
   "id": "4c3810f0-7083-4852-94d5-023c5db0bb03",
   "metadata": {},
   "outputs": [
    {
     "data": {
      "text/plain": [
       "0      0\n",
       "1      1\n",
       "2      1\n",
       "3      1\n",
       "4      0\n",
       "      ..\n",
       "886    0\n",
       "887    1\n",
       "888    0\n",
       "889    1\n",
       "890    0\n",
       "Name: Survived, Length: 889, dtype: int64"
      ]
     },
     "execution_count": 124,
     "metadata": {},
     "output_type": "execute_result"
    }
   ],
   "source": [
    "y_data"
   ]
  },
  {
   "cell_type": "code",
   "execution_count": 125,
   "id": "c0141a35-e94b-4032-98ef-7bd3265295ab",
   "metadata": {},
   "outputs": [
    {
     "data": {
      "text/plain": [
       "(889, 7)"
      ]
     },
     "execution_count": 125,
     "metadata": {},
     "output_type": "execute_result"
    }
   ],
   "source": [
    "x_data.shape"
   ]
  },
  {
   "cell_type": "code",
   "execution_count": 126,
   "id": "ca961e4d-6b68-43b4-9535-2b55a1362b8e",
   "metadata": {},
   "outputs": [],
   "source": [
    "x_training_data,x_test_data,y_training_data,y_test_data=train_test_split(x_data,y_data,test_size=0.2,random_state=42,stratify=y_data)"
   ]
  },
  {
   "cell_type": "code",
   "execution_count": 128,
   "id": "632e5945-da7e-4007-b304-7b4482d89cb3",
   "metadata": {},
   "outputs": [
    {
     "data": {
      "text/plain": [
       "(711, 7)"
      ]
     },
     "execution_count": 128,
     "metadata": {},
     "output_type": "execute_result"
    }
   ],
   "source": [
    "x_training_data.shape"
   ]
  },
  {
   "cell_type": "code",
   "execution_count": 129,
   "id": "3448572f-ed41-468a-9e47-af44686679f5",
   "metadata": {},
   "outputs": [
    {
     "data": {
      "text/plain": [
       "(178, 7)"
      ]
     },
     "execution_count": 129,
     "metadata": {},
     "output_type": "execute_result"
    }
   ],
   "source": [
    "x_test_data.shape"
   ]
  },
  {
   "cell_type": "code",
   "execution_count": 130,
   "id": "e2fa7af8-4081-41c0-af78-06aa56fa50a8",
   "metadata": {},
   "outputs": [],
   "source": [
    "# crweating a model\n",
    "from sklearn.linear_model import LogisticRegression\n",
    "model=LogisticRegression()\n",
    "model.fit(x_training_data,y_training_data)\n",
    "predictions=model.predict(x_test_data)"
   ]
  },
  {
   "cell_type": "code",
   "execution_count": 131,
   "id": "96d3b5f6-730d-4853-bfbd-eccb54aab920",
   "metadata": {},
   "outputs": [
    {
     "data": {
      "text/plain": [
       "array([0, 0, 0, 0, 0, 1, 0, 1, 1, 0, 0, 1, 1, 1, 1, 1, 1, 1, 0, 0, 0, 0,\n",
       "       0, 0, 1, 1, 0, 1, 0, 1, 1, 0, 0, 0, 0, 0, 0, 0, 0, 0, 1, 0, 1, 1,\n",
       "       0, 0, 1, 0, 1, 0, 0, 0, 0, 1, 1, 0, 0, 1, 0, 0, 0, 1, 0, 0, 1, 0,\n",
       "       0, 0, 0, 1, 1, 0, 1, 0, 1, 0, 0, 0, 0, 0, 0, 1, 0, 0, 0, 1, 1, 0,\n",
       "       0, 0, 0, 0, 1, 0, 0, 0, 1, 0, 1, 1, 0, 0, 0, 0, 0, 0, 0, 0, 0, 1,\n",
       "       0, 0, 0, 0, 0, 0, 0, 0, 0, 0, 0, 0, 0, 0, 1, 0, 0, 0, 1, 0, 0, 0,\n",
       "       0, 1, 0, 1, 0, 1, 1, 0, 0, 0, 0, 0, 1, 0, 0, 0, 1, 1, 0, 1, 1, 0,\n",
       "       1, 0, 0, 0, 1, 1, 1, 1, 0, 1, 1, 0, 0, 1, 1, 0, 0, 0, 0, 1, 0, 0,\n",
       "       1, 0], dtype=int64)"
      ]
     },
     "execution_count": 131,
     "metadata": {},
     "output_type": "execute_result"
    }
   ],
   "source": [
    "predictions"
   ]
  },
  {
   "cell_type": "code",
   "execution_count": 133,
   "id": "b90d3397-85bc-4281-8e04-ad96993770a8",
   "metadata": {},
   "outputs": [
    {
     "data": {
      "text/plain": [
       "array([0, 0, 0, 0, 0, 0, 0, 1, 1, 1, 0, 1, 1, 1, 1, 1, 1, 0, 1, 0, 0, 0,\n",
       "       0, 0, 1, 1, 0, 1, 0, 1, 1, 0, 0, 0, 0, 0, 0, 0, 0, 0, 1, 1, 1, 1,\n",
       "       0, 0, 0, 0, 1, 1, 0, 0, 1, 1, 0, 1, 0, 1, 0, 0, 1, 0, 0, 0, 1, 0,\n",
       "       0, 1, 0, 0, 1, 0, 0, 0, 0, 1, 0, 0, 0, 0, 0, 1, 0, 0, 1, 0, 1, 1,\n",
       "       1, 1, 0, 0, 1, 1, 0, 0, 1, 0, 1, 1, 0, 0, 1, 0, 0, 0, 0, 0, 0, 1,\n",
       "       0, 1, 0, 0, 0, 0, 0, 0, 1, 0, 0, 0, 0, 0, 0, 0, 0, 0, 1, 0, 0, 1,\n",
       "       0, 1, 0, 1, 0, 1, 1, 0, 0, 1, 0, 0, 1, 0, 0, 1, 1, 1, 0, 1, 1, 0,\n",
       "       1, 0, 0, 0, 1, 1, 1, 1, 1, 1, 0, 0, 0, 0, 1, 0, 0, 0, 0, 1, 0, 0,\n",
       "       1, 0], dtype=int64)"
      ]
     },
     "execution_count": 133,
     "metadata": {},
     "output_type": "execute_result"
    }
   ],
   "source": [
    "y_test_data.values #actual values"
   ]
  },
  {
   "cell_type": "code",
   "execution_count": 137,
   "id": "576d061d-da5e-487e-94b1-6bb7d366b154",
   "metadata": {},
   "outputs": [],
   "source": [
    "def prediction(test_df_path):\n",
    "    df=pd.read_csv(test_df_path)\n",
    "    df=preprocessing(df,'test')\n",
    "    prediction=model.predict(df)\n",
    "    df['predicted_survived']=prediction\n",
    "    return df"
   ]
  },
  {
   "cell_type": "code",
   "execution_count": 138,
   "id": "0a1f172a-1ef0-4ced-aeed-efe9f22f715a",
   "metadata": {},
   "outputs": [],
   "source": [
    "test_df=prediction(r\"C:\\Users\\naths\\ML\\test.csv\")"
   ]
  },
  {
   "cell_type": "code",
   "execution_count": 139,
   "id": "02cccb46-86e7-4d45-802e-f8d59ae1574f",
   "metadata": {},
   "outputs": [
    {
     "data": {
      "text/html": [
       "<div>\n",
       "<style scoped>\n",
       "    .dataframe tbody tr th:only-of-type {\n",
       "        vertical-align: middle;\n",
       "    }\n",
       "\n",
       "    .dataframe tbody tr th {\n",
       "        vertical-align: top;\n",
       "    }\n",
       "\n",
       "    .dataframe thead th {\n",
       "        text-align: right;\n",
       "    }\n",
       "</style>\n",
       "<table border=\"1\" class=\"dataframe\">\n",
       "  <thead>\n",
       "    <tr style=\"text-align: right;\">\n",
       "      <th></th>\n",
       "      <th>Pclass</th>\n",
       "      <th>Sex</th>\n",
       "      <th>Age</th>\n",
       "      <th>SibSp</th>\n",
       "      <th>Parch</th>\n",
       "      <th>Fare</th>\n",
       "      <th>Embarked</th>\n",
       "      <th>predicted_survived</th>\n",
       "    </tr>\n",
       "  </thead>\n",
       "  <tbody>\n",
       "    <tr>\n",
       "      <th>0</th>\n",
       "      <td>3</td>\n",
       "      <td>1</td>\n",
       "      <td>0.452723</td>\n",
       "      <td>0</td>\n",
       "      <td>0</td>\n",
       "      <td>0.015282</td>\n",
       "      <td>2</td>\n",
       "      <td>0</td>\n",
       "    </tr>\n",
       "    <tr>\n",
       "      <th>1</th>\n",
       "      <td>3</td>\n",
       "      <td>0</td>\n",
       "      <td>0.617566</td>\n",
       "      <td>1</td>\n",
       "      <td>0</td>\n",
       "      <td>0.013663</td>\n",
       "      <td>0</td>\n",
       "      <td>0</td>\n",
       "    </tr>\n",
       "    <tr>\n",
       "      <th>2</th>\n",
       "      <td>2</td>\n",
       "      <td>1</td>\n",
       "      <td>0.815377</td>\n",
       "      <td>0</td>\n",
       "      <td>0</td>\n",
       "      <td>0.018909</td>\n",
       "      <td>2</td>\n",
       "      <td>0</td>\n",
       "    </tr>\n",
       "    <tr>\n",
       "      <th>3</th>\n",
       "      <td>3</td>\n",
       "      <td>1</td>\n",
       "      <td>0.353818</td>\n",
       "      <td>0</td>\n",
       "      <td>0</td>\n",
       "      <td>0.016908</td>\n",
       "      <td>0</td>\n",
       "      <td>0</td>\n",
       "    </tr>\n",
       "    <tr>\n",
       "      <th>4</th>\n",
       "      <td>3</td>\n",
       "      <td>0</td>\n",
       "      <td>0.287881</td>\n",
       "      <td>1</td>\n",
       "      <td>1</td>\n",
       "      <td>0.023984</td>\n",
       "      <td>0</td>\n",
       "      <td>1</td>\n",
       "    </tr>\n",
       "    <tr>\n",
       "      <th>...</th>\n",
       "      <td>...</td>\n",
       "      <td>...</td>\n",
       "      <td>...</td>\n",
       "      <td>...</td>\n",
       "      <td>...</td>\n",
       "      <td>...</td>\n",
       "      <td>...</td>\n",
       "      <td>...</td>\n",
       "    </tr>\n",
       "    <tr>\n",
       "      <th>413</th>\n",
       "      <td>3</td>\n",
       "      <td>1</td>\n",
       "      <td>0.001666</td>\n",
       "      <td>0</td>\n",
       "      <td>0</td>\n",
       "      <td>0.015713</td>\n",
       "      <td>0</td>\n",
       "      <td>0</td>\n",
       "    </tr>\n",
       "    <tr>\n",
       "      <th>414</th>\n",
       "      <td>1</td>\n",
       "      <td>0</td>\n",
       "      <td>0.512066</td>\n",
       "      <td>0</td>\n",
       "      <td>0</td>\n",
       "      <td>0.212559</td>\n",
       "      <td>1</td>\n",
       "      <td>1</td>\n",
       "    </tr>\n",
       "    <tr>\n",
       "      <th>415</th>\n",
       "      <td>3</td>\n",
       "      <td>1</td>\n",
       "      <td>0.505473</td>\n",
       "      <td>0</td>\n",
       "      <td>0</td>\n",
       "      <td>0.014151</td>\n",
       "      <td>0</td>\n",
       "      <td>0</td>\n",
       "    </tr>\n",
       "    <tr>\n",
       "      <th>416</th>\n",
       "      <td>3</td>\n",
       "      <td>1</td>\n",
       "      <td>0.001666</td>\n",
       "      <td>0</td>\n",
       "      <td>0</td>\n",
       "      <td>0.015713</td>\n",
       "      <td>0</td>\n",
       "      <td>0</td>\n",
       "    </tr>\n",
       "    <tr>\n",
       "      <th>417</th>\n",
       "      <td>3</td>\n",
       "      <td>1</td>\n",
       "      <td>0.001666</td>\n",
       "      <td>1</td>\n",
       "      <td>1</td>\n",
       "      <td>0.043640</td>\n",
       "      <td>1</td>\n",
       "      <td>0</td>\n",
       "    </tr>\n",
       "  </tbody>\n",
       "</table>\n",
       "<p>417 rows × 8 columns</p>\n",
       "</div>"
      ],
      "text/plain": [
       "     Pclass  Sex       Age  SibSp  Parch      Fare  Embarked  \\\n",
       "0         3    1  0.452723      0      0  0.015282         2   \n",
       "1         3    0  0.617566      1      0  0.013663         0   \n",
       "2         2    1  0.815377      0      0  0.018909         2   \n",
       "3         3    1  0.353818      0      0  0.016908         0   \n",
       "4         3    0  0.287881      1      1  0.023984         0   \n",
       "..      ...  ...       ...    ...    ...       ...       ...   \n",
       "413       3    1  0.001666      0      0  0.015713         0   \n",
       "414       1    0  0.512066      0      0  0.212559         1   \n",
       "415       3    1  0.505473      0      0  0.014151         0   \n",
       "416       3    1  0.001666      0      0  0.015713         0   \n",
       "417       3    1  0.001666      1      1  0.043640         1   \n",
       "\n",
       "     predicted_survived  \n",
       "0                     0  \n",
       "1                     0  \n",
       "2                     0  \n",
       "3                     0  \n",
       "4                     1  \n",
       "..                  ...  \n",
       "413                   0  \n",
       "414                   1  \n",
       "415                   0  \n",
       "416                   0  \n",
       "417                   0  \n",
       "\n",
       "[417 rows x 8 columns]"
      ]
     },
     "execution_count": 139,
     "metadata": {},
     "output_type": "execute_result"
    }
   ],
   "source": [
    "test_df #test data"
   ]
  },
  {
   "cell_type": "code",
   "execution_count": 145,
   "id": "f3e553cc-6387-4bf2-abec-c742c3232811",
   "metadata": {},
   "outputs": [
    {
     "name": "stdout",
     "output_type": "stream",
     "text": [
      "              precision    recall  f1-score   support\n",
      "\n",
      "           0       0.82      0.89      0.86       110\n",
      "           1       0.80      0.69      0.74        68\n",
      "\n",
      "    accuracy                           0.81       178\n",
      "   macro avg       0.81      0.79      0.80       178\n",
      "weighted avg       0.81      0.81      0.81       178\n",
      "\n"
     ]
    }
   ],
   "source": [
    "#predicting data\n",
    "from sklearn.metrics import classification_report, accuracy_score\n",
    "print(classification_report(y_test_data, predictions))"
   ]
  },
  {
   "cell_type": "code",
   "execution_count": 146,
   "id": "ab41b081-845d-4a5a-9b78-4ab615727fe6",
   "metadata": {},
   "outputs": [
    {
     "name": "stdout",
     "output_type": "stream",
     "text": [
      "Accuracy:  0.8146067415730337\n"
     ]
    }
   ],
   "source": [
    "print('Accuracy: ', accuracy_score(y_test_data, predictions))"
   ]
  },
  {
   "cell_type": "code",
   "execution_count": 149,
   "id": "bfe45378-4ebf-44fc-bbd2-fbf5a03aefb2",
   "metadata": {},
   "outputs": [
    {
     "data": {
      "text/plain": [
       "array([0.34034805, 0.2303859 , 0.4585054 , 0.92776513, 0.55868269,\n",
       "       0.11561383, 0.93585778, 0.53717753, 0.43826873, 0.50964074,\n",
       "       0.74061477, 0.57435277, 0.02096736, 0.29821708, 0.11555442,\n",
       "       0.29248641, 0.1954255 , 0.10752315, 0.06740156, 0.43850744,\n",
       "       0.07762138, 0.13002856, 0.91955256, 0.88740845, 0.10758004,\n",
       "       0.94073495, 0.11018577, 0.06490668, 0.9128218 , 0.76723777,\n",
       "       0.10758004, 0.10063426, 0.6853146 , 0.14362686, 0.15765385,\n",
       "       0.88120813, 0.20065582, 0.56897853, 0.36876566, 0.73944858,\n",
       "       0.2522258 , 0.14109313, 0.58699043, 0.70106095, 0.85930381,\n",
       "       0.33021535, 0.2806695 , 0.08862594, 0.12114374, 0.15520112,\n",
       "       0.61741426, 0.29452093, 0.08983208, 0.15462031, 0.4891173 ,\n",
       "       0.9522231 , 0.13594963, 0.09300912, 0.11557787, 0.24848813,\n",
       "       0.77206209, 0.12039827, 0.73944858, 0.07749872, 0.2303859 ,\n",
       "       0.50408107, 0.10752866, 0.08153819, 0.37535754, 0.72056309,\n",
       "       0.22734669, 0.13786928, 0.06237431, 0.76071314, 0.29250365,\n",
       "       0.18306591, 0.76911615, 0.49296186, 0.0565811 , 0.67536451,\n",
       "       0.73944858, 0.92780797, 0.84699498, 0.20971531, 0.3029825 ,\n",
       "       0.89403826, 0.09298329, 0.61479341, 0.22774996, 0.12708291,\n",
       "       0.10502866, 0.64245102, 0.07978817, 0.60425675, 0.37610226,\n",
       "       0.09547646, 0.56614846, 0.10759363, 0.38971225, 0.73944858,\n",
       "       0.38169962, 0.32476033, 0.11283744, 0.75964256, 0.1287847 ,\n",
       "       0.90787431, 0.15427089, 0.70834774, 0.07431645, 0.15309328,\n",
       "       0.14701656, 0.11926103, 0.51287298, 0.10759363, 0.27623208,\n",
       "       0.71650379, 0.23716918, 0.94121425, 0.85897631, 0.28334483,\n",
       "       0.94652309, 0.06581604, 0.13820976, 0.46002347, 0.17605013,\n",
       "       0.04494711, 0.41041756, 0.64607523, 0.0551501 , 0.65750674,\n",
       "       0.09813708, 0.21335754, 0.62633545, 0.22828301, 0.04919357,\n",
       "       0.61002889, 0.40856773, 0.0886352 , 0.07978249, 0.02096736,\n",
       "       0.77035321, 0.93524242, 0.59131528, 0.61696164, 0.14109267,\n",
       "       0.08865837, 0.2467675 , 0.13002856, 0.12115595, 0.10758004,\n",
       "       0.05950748, 0.18306934, 0.05498534, 0.49841269, 0.10751362,\n",
       "       0.55849508, 0.08718753, 0.68462196, 0.70444091, 0.08439108,\n",
       "       0.2303859 , 0.26249074, 0.79756201, 0.18987224, 0.59129958,\n",
       "       0.18308021, 0.88445256, 0.20940974, 0.11030542, 0.30504397,\n",
       "       0.18316657, 0.1128608 , 0.91239743, 0.60414701, 0.14046303,\n",
       "       0.10580968, 0.84871142, 0.13712944, 0.1107828 , 0.25518234,\n",
       "       0.64201524, 0.12181463, 0.07574204, 0.13789587, 0.18533095,\n",
       "       0.61063342, 0.05930581, 0.94208812, 0.92778752, 0.12116776,\n",
       "       0.73947142, 0.06108874, 0.11555403, 0.58090501, 0.07646119,\n",
       "       0.09713787, 0.2890185 , 0.41523674, 0.11432151, 0.73323206,\n",
       "       0.208231  , 0.27398758, 0.9174081 , 0.04265894, 0.25688661,\n",
       "       0.06749391, 0.63138303, 0.34915209, 0.43575913, 0.59101658,\n",
       "       0.11550284, 0.86182254, 0.09199919, 0.77740229, 0.29271198,\n",
       "       0.41350515, 0.22774996, 0.09536293, 0.5775538 , 0.91022782,\n",
       "       0.11309683, 0.06693821, 0.0802947 , 0.94008961, 0.18284379,\n",
       "       0.10253083, 0.05808457, 0.52364041, 0.59775616, 0.42014731,\n",
       "       0.07649206, 0.10759363, 0.09547779, 0.13712596, 0.20694926,\n",
       "       0.1075694 , 0.58952539, 0.50096585, 0.31889882, 0.73946258,\n",
       "       0.18306934, 0.0844269 , 0.08646964, 0.12116776, 0.28930145,\n",
       "       0.87140591, 0.91332681, 0.49186061, 0.94333568, 0.11284663,\n",
       "       0.46816703, 0.41432898, 0.41946941, 0.0658231 , 0.94743522,\n",
       "       0.73944563, 0.58530756, 0.15624477, 0.09982258, 0.9294128 ,\n",
       "       0.03051195, 0.68958664, 0.09717388, 0.36773997, 0.08507934,\n",
       "       0.90262518, 0.14109313, 0.76688262, 0.94480901, 0.18413541,\n",
       "       0.07644237, 0.08619069, 0.2303859 , 0.18306649, 0.10434949,\n",
       "       0.15520112, 0.18306934, 0.94743522, 0.87675003, 0.25418399,\n",
       "       0.05762937, 0.10772146, 0.71860905, 0.46479999, 0.08862594,\n",
       "       0.69662655, 0.67871435, 0.8420721 , 0.17919994, 0.22774996,\n",
       "       0.10759913, 0.73945521, 0.28342911, 0.42094178, 0.33817726,\n",
       "       0.11284663, 0.52559198, 0.09849607, 0.10253083, 0.54747215,\n",
       "       0.40856773, 0.0908193 , 0.90984453, 0.11278731, 0.10000969,\n",
       "       0.85199655, 0.76994709, 0.92768494, 0.20940974, 0.86958286,\n",
       "       0.76849735, 0.6105516 , 0.73944858, 0.26737632, 0.79623785,\n",
       "       0.36077152, 0.49140666, 0.11018203, 0.09307107, 0.14109313,\n",
       "       0.17844109, 0.71234923, 0.02096736, 0.04702054, 0.73944858,\n",
       "       0.21804976, 0.11846419, 0.56580789, 0.15629246, 0.88589194,\n",
       "       0.3271481 , 0.06579578, 0.87698032, 0.93815123, 0.51852095,\n",
       "       0.2303859 , 0.2522258 , 0.10759363, 0.11563534, 0.22266361,\n",
       "       0.13415569, 0.88399085, 0.26249074, 0.23528971, 0.06934364,\n",
       "       0.09026333, 0.31745544, 0.2890185 , 0.24223044, 0.30479526,\n",
       "       0.14109313, 0.35646598, 0.05226008, 0.20826299, 0.23209886,\n",
       "       0.07560366, 0.57802537, 0.06680987, 0.43414627, 0.10764761,\n",
       "       0.45819956, 0.40267007, 0.41434569, 0.92678812, 0.59731784,\n",
       "       0.9237893 , 0.73652362, 0.18306763, 0.89276127, 0.38925147,\n",
       "       0.09080793, 0.54449593, 0.77867446, 0.19528976, 0.14772877,\n",
       "       0.93766291, 0.82594403, 0.68328917, 0.7918927 , 0.05516445,\n",
       "       0.68751413, 0.10750554, 0.11046699, 0.41446817, 0.12580132,\n",
       "       0.14978443, 0.90439142, 0.85602537, 0.09305913, 0.84007818,\n",
       "       0.13809813, 0.53500485, 0.90679785, 0.15423484, 0.14109267,\n",
       "       0.49208902, 0.12708291, 0.14125818, 0.09534116, 0.08227479,\n",
       "       0.49167346, 0.76449922, 0.1155595 , 0.1185237 , 0.86658838,\n",
       "       0.12565749, 0.11313378, 0.52651334, 0.06782045, 0.67337501,\n",
       "       0.7833118 , 0.54267289, 0.09229286, 0.66673782, 0.51169658,\n",
       "       0.04529983, 0.09782252, 0.47462188, 0.10752315, 0.07457902,\n",
       "       0.75959209, 0.07638759, 0.10495572, 0.50456544, 0.31456575,\n",
       "       0.20940974, 0.09769267, 0.80522681, 0.66632749, 0.73944858,\n",
       "       0.10816329, 0.57275318, 0.14109313, 0.11555207, 0.63099192,\n",
       "       0.1075448 , 0.35514502, 0.05511684, 0.42750164, 0.28381093,\n",
       "       0.1128608 , 0.27215664, 0.10759363, 0.12139026, 0.10759363,\n",
       "       0.92667421, 0.0988825 , 0.16383407, 0.07089817, 0.1270724 ,\n",
       "       0.14116728, 0.23388088, 0.47204478, 0.20028809, 0.75964256,\n",
       "       0.9200265 , 0.12577695, 0.32705864, 0.18714894, 0.12118283,\n",
       "       0.20462445, 0.47406986, 0.59568599, 0.41800251, 0.18306705,\n",
       "       0.10759363, 0.51542169, 0.55596977, 0.88192898, 0.11833288,\n",
       "       0.35513294, 0.12283636, 0.32196621, 0.76543587, 0.12708291,\n",
       "       0.30492251, 0.86650673, 0.12128215, 0.11557787, 0.45948685,\n",
       "       0.93582752, 0.18804392, 0.11835163, 0.14772829, 0.35092516,\n",
       "       0.88951102, 0.11633517, 0.10759363, 0.10758004, 0.56528888,\n",
       "       0.10758004, 0.14109267, 0.0865334 , 0.94835085, 0.6974353 ,\n",
       "       0.62976822, 0.8400571 , 0.36536231, 0.15484213, 0.0745696 ,\n",
       "       0.0641908 , 0.11017423, 0.09782252, 0.37286338, 0.10759363,\n",
       "       0.66282843, 0.70431318, 0.10758004, 0.11688181, 0.47595192,\n",
       "       0.10670827, 0.10759363, 0.10754958, 0.11841029, 0.61756148,\n",
       "       0.18804392, 0.51886776, 0.82878201, 0.26249074, 0.882269  ,\n",
       "       0.09131994, 0.6365737 , 0.10299792, 0.28417854, 0.10752315,\n",
       "       0.17605013, 0.10757123, 0.89310332, 0.09656812, 0.73944858,\n",
       "       0.11439277, 0.1240448 , 0.10169531, 0.16757295, 0.41334317,\n",
       "       0.80154991, 0.24442702, 0.7507993 , 0.06917444, 0.69939466,\n",
       "       0.0745696 , 0.76071314, 0.56540778, 0.14109313, 0.65604745,\n",
       "       0.10758004, 0.11167721, 0.72366679, 0.93675605, 0.10758004,\n",
       "       0.15283419, 0.82624289, 0.21335754, 0.25020616, 0.7888044 ,\n",
       "       0.48167521, 0.44303724, 0.47877407, 0.55596977, 0.41534816,\n",
       "       0.66988743, 0.13952944, 0.81786302, 0.87119994, 0.81807581,\n",
       "       0.10821642, 0.06918035, 0.14116728, 0.70834774, 0.10750554,\n",
       "       0.79761386, 0.82922608, 0.95378516, 0.30084909, 0.55591313,\n",
       "       0.49413149, 0.04841048, 0.81544934, 0.1129803 , 0.77971739,\n",
       "       0.06099669, 0.10816329, 0.23733494, 0.06309708, 0.11193753,\n",
       "       0.65680047, 0.43850744, 0.11277583, 0.64343568, 0.07895977,\n",
       "       0.07041636, 0.10759363, 0.93084809, 0.08862377, 0.36330586,\n",
       "       0.11167721, 0.10758004, 0.94708286, 0.6853146 , 0.74109929,\n",
       "       0.83549564, 0.73947142, 0.26204683, 0.12404688, 0.41545959,\n",
       "       0.0864784 , 0.64195634, 0.09377574, 0.88750928, 0.2522258 ,\n",
       "       0.615762  , 0.52335492, 0.1801874 , 0.50618606, 0.61480321,\n",
       "       0.10899454, 0.19898321, 0.14295948, 0.38308573, 0.10758004,\n",
       "       0.18295957, 0.79761386, 0.13017916, 0.08862594, 0.72179098,\n",
       "       0.40209434, 0.76174162, 0.22306096, 0.41970023, 0.47129486,\n",
       "       0.74966342, 0.0976893 , 0.77867182, 0.10324797, 0.12409716,\n",
       "       0.06583079, 0.08032181, 0.56876649, 0.10495572, 0.13544004,\n",
       "       0.57458063, 0.93278673, 0.55166844, 0.92774455, 0.38224057,\n",
       "       0.11294812, 0.91338725, 0.35331512, 0.1182559 , 0.29324449,\n",
       "       0.0822696 , 0.1226705 , 0.09934005, 0.28334483, 0.63027205,\n",
       "       0.39565491, 0.58480947, 0.11281218, 0.11833966, 0.56695324,\n",
       "       0.89026234, 0.72596784, 0.0738462 , 0.95270313, 0.09318346,\n",
       "       0.7301636 , 0.88301657, 0.23741801, 0.78330046, 0.11278731,\n",
       "       0.49457124, 0.25497694, 0.07273548, 0.93176983, 0.10036966,\n",
       "       0.57826743, 0.92961143, 0.94806499, 0.10008577, 0.9127026 ,\n",
       "       0.28925746, 0.08428094, 0.62326662, 0.06039645, 0.09229286,\n",
       "       0.69939466, 0.12119341, 0.10497296, 0.90774317, 0.34023387,\n",
       "       0.11556614, 0.10758004, 0.2303859 , 0.69939466, 0.06413156,\n",
       "       0.09026333, 0.842468  , 0.4358864 , 0.8740534 , 0.16371371,\n",
       "       0.90283838, 0.05333199, 0.89624574, 0.37353371, 0.73951709,\n",
       "       0.17844109, 0.73947142, 0.11193753, 0.35203924, 0.35362903,\n",
       "       0.41446817])"
      ]
     },
     "execution_count": 149,
     "metadata": {},
     "output_type": "execute_result"
    }
   ],
   "source": [
    "# predict probabilities\n",
    "probs=model.predict_proba(x_training_data)[:,1]\n",
    "probs"
   ]
  },
  {
   "cell_type": "code",
   "execution_count": 150,
   "id": "b11a21e8-1334-4d02-9b28-41d29d6e0a9e",
   "metadata": {},
   "outputs": [
    {
     "data": {
      "text/plain": [
       "(array([0.        , 0.10909091, 1.        ]),\n",
       " array([0.        , 0.69117647, 1.        ]),\n",
       " array([inf,  1.,  0.]))"
      ]
     },
     "execution_count": 150,
     "metadata": {},
     "output_type": "execute_result"
    }
   ],
   "source": [
    "#calculating ROC curve\n",
    "fpr,tpr,threshlods=roc_curve(y_test_data, predictions)\n",
    "fpr,tpr,threshlods"
   ]
  },
  {
   "cell_type": "code",
   "execution_count": 151,
   "id": "098a8e88-5787-483b-b1b9-b144498ca7d3",
   "metadata": {},
   "outputs": [
    {
     "data": {
      "text/plain": [
       "0.7910427807486631"
      ]
     },
     "execution_count": 151,
     "metadata": {},
     "output_type": "execute_result"
    }
   ],
   "source": [
    "#calculate ADC score\n",
    "auc_score=roc_auc_score(y_test_data, predictions)\n",
    "auc_score"
   ]
  },
  {
   "cell_type": "code",
   "execution_count": 153,
   "id": "e5800504-6f90-4526-a227-dfbb92305712",
   "metadata": {},
   "outputs": [
    {
     "data": {
      "text/plain": [
       "(array([0.38255977, 0.38418079, 0.38472419, 0.38526912, 0.3858156 ,\n",
       "        0.38636364, 0.38691323, 0.38746439, 0.38801712, 0.38857143,\n",
       "        0.38912732, 0.38968481, 0.3902439 , 0.3908046 , 0.39136691,\n",
       "        0.39193084, 0.39249639, 0.39306358, 0.39363242, 0.3942029 ,\n",
       "        0.39477504, 0.39534884, 0.39592431, 0.39650146, 0.39708029,\n",
       "        0.39766082, 0.39677892, 0.3973607 , 0.3979442 , 0.39705882,\n",
       "        0.39764359, 0.39823009, 0.39881832, 0.39940828, 0.4       ,\n",
       "        0.40059347, 0.40118871, 0.40178571, 0.4023845 , 0.40298507,\n",
       "        0.40358744, 0.40419162, 0.4047976 , 0.40540541, 0.40601504,\n",
       "        0.40573152, 0.40634441, 0.40695915, 0.40757576, 0.40819423,\n",
       "        0.40881459, 0.40791476, 0.40853659, 0.40916031, 0.40978593,\n",
       "        0.41041348, 0.41104294, 0.41167435, 0.41230769, 0.41294299,\n",
       "        0.41358025, 0.41421947, 0.41486068, 0.41550388, 0.41614907,\n",
       "        0.41679627, 0.41744548, 0.41809672, 0.41875   , 0.41940532,\n",
       "        0.4200627 , 0.41915228, 0.41981132, 0.42022117, 0.4193038 ,\n",
       "        0.4199683 , 0.42063492, 0.42197452, 0.42264753, 0.42172524,\n",
       "        0.4224    , 0.42307692, 0.42122186, 0.42190016, 0.42258065,\n",
       "        0.42326333, 0.42394822, 0.42301459, 0.4237013 , 0.42439024,\n",
       "        0.42508143, 0.42577488, 0.4248366 , 0.42553191, 0.42622951,\n",
       "        0.42692939, 0.42763158, 0.42833608, 0.42975207, 0.43046358,\n",
       "        0.42951907, 0.43023256, 0.43094842, 0.43166667, 0.43071786,\n",
       "        0.43143813, 0.4321608 , 0.43288591, 0.43361345, 0.43507589,\n",
       "        0.43581081, 0.43654822, 0.43559322, 0.43707483, 0.43781942,\n",
       "        0.43856655, 0.43931624, 0.43835616, 0.43986254, 0.43889845,\n",
       "        0.44117647, 0.44194107, 0.44270833, 0.44347826, 0.44425087,\n",
       "        0.44502618, 0.45373665, 0.46279492, 0.46181818, 0.46265938,\n",
       "        0.46350365, 0.46520147, 0.46605505, 0.46691176, 0.46777164,\n",
       "        0.46863469, 0.46950092, 0.47037037, 0.47124304, 0.47026022,\n",
       "        0.46828358, 0.46629213, 0.46716698, 0.46892655, 0.46981132,\n",
       "        0.47069943, 0.47248577, 0.47428571, 0.47519084, 0.47609943,\n",
       "        0.47701149, 0.47792706, 0.47884615, 0.47976879, 0.48069498,\n",
       "        0.48162476, 0.48062016, 0.4815534 , 0.48249027, 0.4834308 ,\n",
       "        0.4853229 , 0.48627451, 0.48722986, 0.48818898, 0.48915187,\n",
       "        0.49011858, 0.49108911, 0.49206349, 0.49304175, 0.4940239 ,\n",
       "        0.49500998, 0.496     , 0.49699399, 0.49799197, 0.49899396,\n",
       "        0.5       , 0.50202429, 0.5030426 , 0.50406504, 0.50305499,\n",
       "        0.50408163, 0.50511247, 0.50614754, 0.50513347, 0.50617284,\n",
       "        0.50721649, 0.50826446, 0.50724638, 0.50829876, 0.50935551,\n",
       "        0.51041667, 0.51362683, 0.51470588, 0.51476793, 0.51585624,\n",
       "        0.51694915, 0.51804671, 0.51702128, 0.51812367, 0.51709402,\n",
       "        0.51820128, 0.5193133 , 0.52043011, 0.51939655, 0.51835853,\n",
       "        0.51948052, 0.52287582, 0.52759382, 0.52993348, 0.53111111,\n",
       "        0.53229399, 0.53348214, 0.53467562, 0.53363229, 0.53483146,\n",
       "        0.53603604, 0.53724605, 0.53846154, 0.53968254, 0.54090909,\n",
       "        0.53986333, 0.53881279, 0.5412844 , 0.54252874, 0.54147465,\n",
       "        0.54272517, 0.54398148, 0.54292343, 0.54418605, 0.54439252,\n",
       "        0.54694836, 0.54823529, 0.5495283 , 0.54846336, 0.54976303,\n",
       "        0.55106888, 0.55238095, 0.55369928, 0.55502392, 0.55662651,\n",
       "        0.55797101, 0.55932203, 0.56067961, 0.5620438 , 0.56097561,\n",
       "        0.56372549, 0.56511057, 0.56650246, 0.56790123, 0.56930693,\n",
       "        0.5707196 , 0.5721393 , 0.57356608, 0.575     , 0.5764411 ,\n",
       "        0.57788945, 0.57974684, 0.58121827, 0.58418367, 0.58567775,\n",
       "        0.58717949, 0.58611825, 0.58762887, 0.59220779, 0.59375   ,\n",
       "        0.6031746 , 0.60477454, 0.60638298, 0.608     , 0.60962567,\n",
       "        0.61126005, 0.61290323, 0.61455526, 0.61621622, 0.61788618,\n",
       "        0.61956522, 0.62125341, 0.62637363, 0.62809917, 0.62983425,\n",
       "        0.63157895, 0.63333333, 0.63509749, 0.64044944, 0.63943662,\n",
       "        0.64124294, 0.64305949, 0.64488636, 0.64672365, 0.64756447,\n",
       "        0.64942529, 0.65129683, 0.65317919, 0.65697674, 0.65597668,\n",
       "        0.65789474, 0.6568915 , 0.65588235, 0.65781711, 0.65680473,\n",
       "        0.65875371, 0.66071429, 0.66268657, 0.66467066, 0.66666667,\n",
       "        0.6686747 , 0.66767372, 0.66969697, 0.66869301, 0.66768293,\n",
       "        0.66666667, 0.66564417, 0.66461538, 0.66666667, 0.66563467,\n",
       "        0.66770186, 0.66978193, 0.66875   , 0.6677116 , 0.66981132,\n",
       "        0.67192429, 0.67405063, 0.67619048, 0.67834395, 0.67731629,\n",
       "        0.67948718, 0.68167203, 0.68064516, 0.6828479 , 0.68506494,\n",
       "        0.68403909, 0.68300654, 0.6852459 , 0.6875    , 0.68646865,\n",
       "        0.68543046, 0.68438538, 0.68666667, 0.68896321, 0.69127517,\n",
       "        0.69360269, 0.69594595, 0.69830508, 0.70307167, 0.70205479,\n",
       "        0.70103093, 0.70344828, 0.70588235, 0.70833333, 0.70979021,\n",
       "        0.70877193, 0.70774648, 0.71024735, 0.71276596, 0.71530249,\n",
       "        0.71785714, 0.72043011, 0.71942446, 0.71841155, 0.7173913 ,\n",
       "        0.71636364, 0.7189781 , 0.71794872, 0.72324723, 0.72592593,\n",
       "        0.72862454, 0.73134328, 0.7340824 , 0.73684211, 0.73962264,\n",
       "        0.74242424, 0.74524715, 0.74427481, 0.74329502, 0.74615385,\n",
       "        0.74517375, 0.74806202, 0.74708171, 0.75      , 0.75294118,\n",
       "        0.75590551, 0.75494071, 0.75793651, 0.75697211, 0.76      ,\n",
       "        0.76305221, 0.76209677, 0.76518219, 0.76829268, 0.76734694,\n",
       "        0.7704918 , 0.77366255, 0.7768595 , 0.78008299, 0.78333333,\n",
       "        0.78661088, 0.78991597, 0.79324895, 0.79237288, 0.79148936,\n",
       "        0.79487179, 0.79399142, 0.79741379, 0.8008658 , 0.80434783,\n",
       "        0.80786026, 0.80701754, 0.8061674 , 0.80444444, 0.80803571,\n",
       "        0.80717489, 0.81081081, 0.80995475, 0.81363636, 0.81278539,\n",
       "        0.81192661, 0.8156682 , 0.81481481, 0.81395349, 0.81775701,\n",
       "        0.82159624, 0.8254717 , 0.82938389, 0.83333333, 0.83732057,\n",
       "        0.83653846, 0.84057971, 0.83980583, 0.84390244, 0.84313725,\n",
       "        0.84236453, 0.84158416, 0.84577114, 0.845     , 0.84924623,\n",
       "        0.85353535, 0.85786802, 0.8622449 , 0.86153846, 0.86597938,\n",
       "        0.87046632, 0.86979167, 0.86910995, 0.86842105, 0.87301587,\n",
       "        0.87765957, 0.87700535, 0.87634409, 0.88108108, 0.88586957,\n",
       "        0.8852459 , 0.88461538, 0.88950276, 0.88888889, 0.89385475,\n",
       "        0.89325843, 0.89830508, 0.90340909, 0.90285714, 0.90229885,\n",
       "        0.9017341 , 0.90697674, 0.9122807 , 0.91176471, 0.9112426 ,\n",
       "        0.91071429, 0.91017964, 0.91566265, 0.91515152, 0.91463415,\n",
       "        0.91358025, 0.91925466, 0.91875   , 0.9245283 , 0.92405063,\n",
       "        0.92258065, 0.92207792, 0.92810458, 0.93421053, 0.93333333,\n",
       "        0.93288591, 0.93918919, 0.93877551, 0.94520548, 0.94482759,\n",
       "        0.94444444, 0.94405594, 0.94366197, 0.94326241, 0.94285714,\n",
       "        0.94244604, 0.94656489, 0.94615385, 0.94573643, 0.94444444,\n",
       "        0.952     , 0.9516129 , 0.95121951, 0.95081967, 0.95867769,\n",
       "        0.95833333, 0.95762712, 0.95689655, 0.96521739, 0.96491228,\n",
       "        0.96460177, 0.96428571, 0.96396396, 0.97272727, 0.98165138,\n",
       "        0.98148148, 0.98130841, 0.98113208, 0.98095238, 0.98076923,\n",
       "        0.98058252, 0.98039216, 0.98019802, 0.98      , 0.97979798,\n",
       "        0.97959184, 0.97938144, 0.97916667, 0.9787234 , 0.97849462,\n",
       "        0.97826087, 0.97802198, 0.97777778, 0.97752809, 0.97727273,\n",
       "        0.97701149, 0.97674419, 0.97647059, 0.97619048, 0.97590361,\n",
       "        0.97560976, 0.97530864, 0.975     , 0.97468354, 0.97435897,\n",
       "        0.97402597, 0.97368421, 0.97333333, 0.97297297, 0.97260274,\n",
       "        0.97222222, 0.97183099, 0.97142857, 0.97101449, 0.97058824,\n",
       "        0.97014925, 0.96969697, 0.96923077, 0.96875   , 0.96825397,\n",
       "        0.96774194, 0.96721311, 0.96666667, 0.96610169, 0.96551724,\n",
       "        0.96491228, 0.96428571, 0.96363636, 0.96296296, 0.96226415,\n",
       "        0.96153846, 0.96078431, 0.98      , 0.97959184, 0.97916667,\n",
       "        0.9787234 , 0.97826087, 1.        , 1.        , 1.        ,\n",
       "        1.        , 1.        , 1.        , 1.        , 1.        ,\n",
       "        1.        , 1.        , 1.        , 1.        , 1.        ,\n",
       "        1.        , 1.        , 1.        , 1.        , 1.        ,\n",
       "        1.        , 1.        , 1.        , 1.        , 1.        ,\n",
       "        1.        , 1.        , 1.        , 1.        , 1.        ,\n",
       "        1.        , 1.        , 1.        , 1.        , 1.        ,\n",
       "        1.        , 1.        , 1.        , 1.        , 1.        ,\n",
       "        1.        , 1.        , 1.        , 1.        , 1.        ,\n",
       "        1.        , 1.        ]),\n",
       " array([1.        , 1.        , 1.        , 1.        , 1.        ,\n",
       "        1.        , 1.        , 1.        , 1.        , 1.        ,\n",
       "        1.        , 1.        , 1.        , 1.        , 1.        ,\n",
       "        1.        , 1.        , 1.        , 1.        , 1.        ,\n",
       "        1.        , 1.        , 1.        , 1.        , 1.        ,\n",
       "        1.        , 0.99632353, 0.99632353, 0.99632353, 0.99264706,\n",
       "        0.99264706, 0.99264706, 0.99264706, 0.99264706, 0.99264706,\n",
       "        0.99264706, 0.99264706, 0.99264706, 0.99264706, 0.99264706,\n",
       "        0.99264706, 0.99264706, 0.99264706, 0.99264706, 0.99264706,\n",
       "        0.98897059, 0.98897059, 0.98897059, 0.98897059, 0.98897059,\n",
       "        0.98897059, 0.98529412, 0.98529412, 0.98529412, 0.98529412,\n",
       "        0.98529412, 0.98529412, 0.98529412, 0.98529412, 0.98529412,\n",
       "        0.98529412, 0.98529412, 0.98529412, 0.98529412, 0.98529412,\n",
       "        0.98529412, 0.98529412, 0.98529412, 0.98529412, 0.98529412,\n",
       "        0.98529412, 0.98161765, 0.98161765, 0.97794118, 0.97426471,\n",
       "        0.97426471, 0.97426471, 0.97426471, 0.97426471, 0.97058824,\n",
       "        0.97058824, 0.97058824, 0.96323529, 0.96323529, 0.96323529,\n",
       "        0.96323529, 0.96323529, 0.95955882, 0.95955882, 0.95955882,\n",
       "        0.95955882, 0.95955882, 0.95588235, 0.95588235, 0.95588235,\n",
       "        0.95588235, 0.95588235, 0.95588235, 0.95588235, 0.95588235,\n",
       "        0.95220588, 0.95220588, 0.95220588, 0.95220588, 0.94852941,\n",
       "        0.94852941, 0.94852941, 0.94852941, 0.94852941, 0.94852941,\n",
       "        0.94852941, 0.94852941, 0.94485294, 0.94485294, 0.94485294,\n",
       "        0.94485294, 0.94485294, 0.94117647, 0.94117647, 0.9375    ,\n",
       "        0.9375    , 0.9375    , 0.9375    , 0.9375    , 0.9375    ,\n",
       "        0.9375    , 0.9375    , 0.9375    , 0.93382353, 0.93382353,\n",
       "        0.93382353, 0.93382353, 0.93382353, 0.93382353, 0.93382353,\n",
       "        0.93382353, 0.93382353, 0.93382353, 0.93382353, 0.93014706,\n",
       "        0.92279412, 0.91544118, 0.91544118, 0.91544118, 0.91544118,\n",
       "        0.91544118, 0.91544118, 0.91544118, 0.91544118, 0.91544118,\n",
       "        0.91544118, 0.91544118, 0.91544118, 0.91544118, 0.91544118,\n",
       "        0.91544118, 0.91176471, 0.91176471, 0.91176471, 0.91176471,\n",
       "        0.91176471, 0.91176471, 0.91176471, 0.91176471, 0.91176471,\n",
       "        0.91176471, 0.91176471, 0.91176471, 0.91176471, 0.91176471,\n",
       "        0.91176471, 0.91176471, 0.91176471, 0.91176471, 0.91176471,\n",
       "        0.91176471, 0.91176471, 0.91176471, 0.91176471, 0.90808824,\n",
       "        0.90808824, 0.90808824, 0.90808824, 0.90441176, 0.90441176,\n",
       "        0.90441176, 0.90441176, 0.90073529, 0.90073529, 0.90073529,\n",
       "        0.90073529, 0.90073529, 0.90073529, 0.89705882, 0.89705882,\n",
       "        0.89705882, 0.89705882, 0.89338235, 0.89338235, 0.88970588,\n",
       "        0.88970588, 0.88970588, 0.88970588, 0.88602941, 0.88235294,\n",
       "        0.88235294, 0.88235294, 0.87867647, 0.87867647, 0.87867647,\n",
       "        0.87867647, 0.87867647, 0.87867647, 0.875     , 0.875     ,\n",
       "        0.875     , 0.875     , 0.875     , 0.875     , 0.875     ,\n",
       "        0.87132353, 0.86764706, 0.86764706, 0.86764706, 0.86397059,\n",
       "        0.86397059, 0.86397059, 0.86029412, 0.86029412, 0.85661765,\n",
       "        0.85661765, 0.85661765, 0.85661765, 0.85294118, 0.85294118,\n",
       "        0.85294118, 0.85294118, 0.85294118, 0.85294118, 0.84926471,\n",
       "        0.84926471, 0.84926471, 0.84926471, 0.84926471, 0.84558824,\n",
       "        0.84558824, 0.84558824, 0.84558824, 0.84558824, 0.84558824,\n",
       "        0.84558824, 0.84558824, 0.84558824, 0.84558824, 0.84558824,\n",
       "        0.84558824, 0.84191176, 0.84191176, 0.84191176, 0.84191176,\n",
       "        0.84191176, 0.83823529, 0.83823529, 0.83823529, 0.83823529,\n",
       "        0.83823529, 0.83823529, 0.83823529, 0.83823529, 0.83823529,\n",
       "        0.83823529, 0.83823529, 0.83823529, 0.83823529, 0.83823529,\n",
       "        0.83823529, 0.83823529, 0.83823529, 0.83823529, 0.83823529,\n",
       "        0.83823529, 0.83823529, 0.83823529, 0.83823529, 0.83455882,\n",
       "        0.83455882, 0.83455882, 0.83455882, 0.83455882, 0.83088235,\n",
       "        0.83088235, 0.83088235, 0.83088235, 0.83088235, 0.82720588,\n",
       "        0.82720588, 0.82352941, 0.81985294, 0.81985294, 0.81617647,\n",
       "        0.81617647, 0.81617647, 0.81617647, 0.81617647, 0.81617647,\n",
       "        0.81617647, 0.8125    , 0.8125    , 0.80882353, 0.80514706,\n",
       "        0.80147059, 0.79779412, 0.79411765, 0.79411765, 0.79044118,\n",
       "        0.79044118, 0.79044118, 0.78676471, 0.78308824, 0.78308824,\n",
       "        0.78308824, 0.78308824, 0.78308824, 0.78308824, 0.77941176,\n",
       "        0.77941176, 0.77941176, 0.77573529, 0.77573529, 0.77573529,\n",
       "        0.77205882, 0.76838235, 0.76838235, 0.76838235, 0.76470588,\n",
       "        0.76102941, 0.75735294, 0.75735294, 0.75735294, 0.75735294,\n",
       "        0.75735294, 0.75735294, 0.75735294, 0.75735294, 0.75367647,\n",
       "        0.75      , 0.75      , 0.75      , 0.75      , 0.74632353,\n",
       "        0.74264706, 0.73897059, 0.73897059, 0.73897059, 0.73897059,\n",
       "        0.73897059, 0.73897059, 0.73529412, 0.73161765, 0.72794118,\n",
       "        0.72426471, 0.72426471, 0.72058824, 0.72058824, 0.72058824,\n",
       "        0.72058824, 0.72058824, 0.72058824, 0.72058824, 0.72058824,\n",
       "        0.72058824, 0.72058824, 0.71691176, 0.71323529, 0.71323529,\n",
       "        0.70955882, 0.70955882, 0.70588235, 0.70588235, 0.70588235,\n",
       "        0.70588235, 0.70220588, 0.70220588, 0.69852941, 0.69852941,\n",
       "        0.69852941, 0.69485294, 0.69485294, 0.69485294, 0.69117647,\n",
       "        0.69117647, 0.69117647, 0.69117647, 0.69117647, 0.69117647,\n",
       "        0.69117647, 0.69117647, 0.69117647, 0.6875    , 0.68382353,\n",
       "        0.68382353, 0.68014706, 0.68014706, 0.68014706, 0.68014706,\n",
       "        0.68014706, 0.67647059, 0.67279412, 0.66544118, 0.66544118,\n",
       "        0.66176471, 0.66176471, 0.65808824, 0.65808824, 0.65441176,\n",
       "        0.65073529, 0.65073529, 0.64705882, 0.64338235, 0.64338235,\n",
       "        0.64338235, 0.64338235, 0.64338235, 0.64338235, 0.64338235,\n",
       "        0.63970588, 0.63970588, 0.63602941, 0.63602941, 0.63235294,\n",
       "        0.62867647, 0.625     , 0.625     , 0.62132353, 0.62132353,\n",
       "        0.62132353, 0.62132353, 0.62132353, 0.61764706, 0.61764706,\n",
       "        0.61764706, 0.61397059, 0.61029412, 0.60661765, 0.60661765,\n",
       "        0.60661765, 0.60294118, 0.59926471, 0.59926471, 0.59926471,\n",
       "        0.59558824, 0.59191176, 0.59191176, 0.58823529, 0.58823529,\n",
       "        0.58455882, 0.58455882, 0.58455882, 0.58088235, 0.57720588,\n",
       "        0.57352941, 0.57352941, 0.57352941, 0.56985294, 0.56617647,\n",
       "        0.5625    , 0.55882353, 0.55882353, 0.55514706, 0.55147059,\n",
       "        0.54411765, 0.54411765, 0.54044118, 0.54044118, 0.53676471,\n",
       "        0.52573529, 0.52205882, 0.52205882, 0.52205882, 0.51470588,\n",
       "        0.51102941, 0.51102941, 0.50735294, 0.50735294, 0.50367647,\n",
       "        0.5       , 0.49632353, 0.49264706, 0.48897059, 0.48529412,\n",
       "        0.48161765, 0.45588235, 0.45220588, 0.44852941, 0.4375    ,\n",
       "        0.4375    , 0.43382353, 0.43014706, 0.42647059, 0.42647059,\n",
       "        0.42279412, 0.41544118, 0.40808824, 0.40808824, 0.40441176,\n",
       "        0.40073529, 0.39705882, 0.39338235, 0.39338235, 0.39338235,\n",
       "        0.38970588, 0.38602941, 0.38235294, 0.37867647, 0.375     ,\n",
       "        0.37132353, 0.36764706, 0.36397059, 0.36029412, 0.35661765,\n",
       "        0.35294118, 0.34926471, 0.34558824, 0.33823529, 0.33455882,\n",
       "        0.33088235, 0.32720588, 0.32352941, 0.31985294, 0.31617647,\n",
       "        0.3125    , 0.30882353, 0.30514706, 0.30147059, 0.29779412,\n",
       "        0.29411765, 0.29044118, 0.28676471, 0.28308824, 0.27941176,\n",
       "        0.27573529, 0.27205882, 0.26838235, 0.26470588, 0.26102941,\n",
       "        0.25735294, 0.25367647, 0.25      , 0.24632353, 0.24264706,\n",
       "        0.23897059, 0.23529412, 0.23161765, 0.22794118, 0.22426471,\n",
       "        0.22058824, 0.21691176, 0.21323529, 0.20955882, 0.20588235,\n",
       "        0.20220588, 0.19852941, 0.19485294, 0.19117647, 0.1875    ,\n",
       "        0.18382353, 0.18014706, 0.18014706, 0.17647059, 0.17279412,\n",
       "        0.16911765, 0.16544118, 0.16544118, 0.16176471, 0.15808824,\n",
       "        0.15441176, 0.15073529, 0.14705882, 0.14338235, 0.13970588,\n",
       "        0.13602941, 0.13235294, 0.12867647, 0.125     , 0.12132353,\n",
       "        0.11764706, 0.11397059, 0.11029412, 0.10661765, 0.10294118,\n",
       "        0.09926471, 0.09558824, 0.09191176, 0.08823529, 0.08455882,\n",
       "        0.08088235, 0.07720588, 0.07352941, 0.06985294, 0.06617647,\n",
       "        0.0625    , 0.05882353, 0.05514706, 0.05147059, 0.04779412,\n",
       "        0.04411765, 0.04044118, 0.03676471, 0.03308824, 0.02941176,\n",
       "        0.02573529, 0.01838235, 0.01470588, 0.01102941, 0.00735294,\n",
       "        0.00367647, 0.        ]),\n",
       " array([0.02096736, 0.03051195, 0.04265894, 0.04494711, 0.04529983,\n",
       "        0.04702054, 0.04841048, 0.04919357, 0.05226008, 0.05333199,\n",
       "        0.05498534, 0.05511684, 0.0551501 , 0.05516445, 0.0565811 ,\n",
       "        0.05762937, 0.05808457, 0.05930581, 0.05950748, 0.06039645,\n",
       "        0.06099669, 0.06108874, 0.06237431, 0.06309708, 0.06413156,\n",
       "        0.0641908 , 0.06490668, 0.06579578, 0.06581604, 0.0658231 ,\n",
       "        0.06583079, 0.06680987, 0.06693821, 0.06740156, 0.06749391,\n",
       "        0.06782045, 0.06917444, 0.06918035, 0.06934364, 0.07041636,\n",
       "        0.07089817, 0.07273548, 0.0738462 , 0.07431645, 0.0745696 ,\n",
       "        0.07457902, 0.07560366, 0.07574204, 0.07638759, 0.07644237,\n",
       "        0.07646119, 0.07649206, 0.07749872, 0.07762138, 0.07895977,\n",
       "        0.07978249, 0.07978817, 0.0802947 , 0.08032181, 0.08153819,\n",
       "        0.0822696 , 0.08227479, 0.08428094, 0.08439108, 0.0844269 ,\n",
       "        0.08507934, 0.08619069, 0.08646964, 0.0864784 , 0.0865334 ,\n",
       "        0.08718753, 0.08862377, 0.08862594, 0.0886352 , 0.08865837,\n",
       "        0.08983208, 0.09026333, 0.09080793, 0.0908193 , 0.09131994,\n",
       "        0.09199919, 0.09229286, 0.09298329, 0.09300912, 0.09305913,\n",
       "        0.09307107, 0.09318346, 0.09377574, 0.09534116, 0.09536293,\n",
       "        0.09547646, 0.09547779, 0.09656812, 0.09713787, 0.09717388,\n",
       "        0.0976893 , 0.09769267, 0.09782252, 0.09813708, 0.09849607,\n",
       "        0.0988825 , 0.09934005, 0.09982258, 0.10000969, 0.10008577,\n",
       "        0.10036966, 0.10063426, 0.10169531, 0.10253083, 0.10299792,\n",
       "        0.10324797, 0.10434949, 0.10495572, 0.10497296, 0.10502866,\n",
       "        0.10580968, 0.10670827, 0.10750554, 0.10751362, 0.10752315,\n",
       "        0.10752866, 0.1075448 , 0.10754958, 0.1075694 , 0.10757123,\n",
       "        0.10758004, 0.10759363, 0.10759913, 0.10764761, 0.10772146,\n",
       "        0.10816329, 0.10821642, 0.10899454, 0.11017423, 0.11018203,\n",
       "        0.11018577, 0.11030542, 0.11046699, 0.1107828 , 0.11167721,\n",
       "        0.11193753, 0.11277583, 0.11278731, 0.11281218, 0.11283744,\n",
       "        0.11284663, 0.1128608 , 0.11294812, 0.1129803 , 0.11309683,\n",
       "        0.11313378, 0.11432151, 0.11439277, 0.11550284, 0.11555207,\n",
       "        0.11555403, 0.11555442, 0.1155595 , 0.11556614, 0.11557787,\n",
       "        0.11561383, 0.11563534, 0.11633517, 0.11688181, 0.1182559 ,\n",
       "        0.11833288, 0.11833966, 0.11835163, 0.11841029, 0.11846419,\n",
       "        0.1185237 , 0.11926103, 0.12039827, 0.12114374, 0.12115595,\n",
       "        0.12116776, 0.12118283, 0.12119341, 0.12128215, 0.12139026,\n",
       "        0.12181463, 0.1226705 , 0.12283636, 0.1240448 , 0.12404688,\n",
       "        0.12409716, 0.12565749, 0.12577695, 0.12580132, 0.1270724 ,\n",
       "        0.12708291, 0.1287847 , 0.13002856, 0.13017916, 0.13415569,\n",
       "        0.13544004, 0.13594963, 0.13712596, 0.13712944, 0.13786928,\n",
       "        0.13789587, 0.13809813, 0.13820976, 0.13952944, 0.14046303,\n",
       "        0.14109267, 0.14109313, 0.14116728, 0.14125818, 0.14295948,\n",
       "        0.14362686, 0.14701656, 0.14772829, 0.14772877, 0.14978443,\n",
       "        0.15283419, 0.15309328, 0.15423484, 0.15427089, 0.15462031,\n",
       "        0.15484213, 0.15520112, 0.15624477, 0.15629246, 0.15765385,\n",
       "        0.16371371, 0.16383407, 0.16757295, 0.17605013, 0.17844109,\n",
       "        0.17919994, 0.1801874 , 0.18284379, 0.18295957, 0.18306591,\n",
       "        0.18306649, 0.18306705, 0.18306763, 0.18306934, 0.18308021,\n",
       "        0.18316657, 0.18413541, 0.18533095, 0.18714894, 0.18804392,\n",
       "        0.18987224, 0.19528976, 0.1954255 , 0.19898321, 0.20028809,\n",
       "        0.20065582, 0.20462445, 0.20694926, 0.208231  , 0.20826299,\n",
       "        0.20940974, 0.20971531, 0.21335754, 0.21804976, 0.22266361,\n",
       "        0.22306096, 0.22734669, 0.22774996, 0.22828301, 0.2303859 ,\n",
       "        0.23209886, 0.23388088, 0.23528971, 0.23716918, 0.23733494,\n",
       "        0.23741801, 0.24223044, 0.24442702, 0.2467675 , 0.24848813,\n",
       "        0.25020616, 0.2522258 , 0.25418399, 0.25497694, 0.25518234,\n",
       "        0.25688661, 0.26204683, 0.26249074, 0.26737632, 0.27215664,\n",
       "        0.27398758, 0.27623208, 0.2806695 , 0.28334483, 0.28342911,\n",
       "        0.28381093, 0.28417854, 0.2890185 , 0.28925746, 0.28930145,\n",
       "        0.29248641, 0.29250365, 0.29271198, 0.29324449, 0.29452093,\n",
       "        0.29821708, 0.30084909, 0.3029825 , 0.30479526, 0.30492251,\n",
       "        0.30504397, 0.31456575, 0.31745544, 0.31889882, 0.32196621,\n",
       "        0.32476033, 0.32705864, 0.3271481 , 0.33021535, 0.33817726,\n",
       "        0.34023387, 0.34034805, 0.34915209, 0.35092516, 0.35203924,\n",
       "        0.35331512, 0.35362903, 0.35513294, 0.35514502, 0.35646598,\n",
       "        0.36077152, 0.36330586, 0.36536231, 0.36773997, 0.36876566,\n",
       "        0.37286338, 0.37353371, 0.37535754, 0.37610226, 0.38169962,\n",
       "        0.38224057, 0.38308573, 0.38925147, 0.38971225, 0.39565491,\n",
       "        0.40209434, 0.40267007, 0.40856773, 0.41041756, 0.41334317,\n",
       "        0.41350515, 0.41432898, 0.41434569, 0.41446817, 0.41523674,\n",
       "        0.41534816, 0.41545959, 0.41800251, 0.41946941, 0.41970023,\n",
       "        0.42014731, 0.42094178, 0.42750164, 0.43414627, 0.43575913,\n",
       "        0.4358864 , 0.43826873, 0.43850744, 0.44303724, 0.45819956,\n",
       "        0.4585054 , 0.45948685, 0.46002347, 0.46479999, 0.46816703,\n",
       "        0.47129486, 0.47204478, 0.47406986, 0.47462188, 0.47595192,\n",
       "        0.47877407, 0.48167521, 0.4891173 , 0.49140666, 0.49167346,\n",
       "        0.49186061, 0.49208902, 0.49296186, 0.49413149, 0.49457124,\n",
       "        0.49841269, 0.50096585, 0.50408107, 0.50456544, 0.50618606,\n",
       "        0.50964074, 0.51169658, 0.51287298, 0.51542169, 0.51852095,\n",
       "        0.51886776, 0.52335492, 0.52364041, 0.52559198, 0.52651334,\n",
       "        0.53500485, 0.53717753, 0.54267289, 0.54449593, 0.54747215,\n",
       "        0.55166844, 0.55591313, 0.55596977, 0.55849508, 0.55868269,\n",
       "        0.56528888, 0.56540778, 0.56580789, 0.56614846, 0.56695324,\n",
       "        0.56876649, 0.56897853, 0.57275318, 0.57435277, 0.57458063,\n",
       "        0.5775538 , 0.57802537, 0.57826743, 0.58090501, 0.58480947,\n",
       "        0.58530756, 0.58699043, 0.58952539, 0.59101658, 0.59129958,\n",
       "        0.59131528, 0.59568599, 0.59731784, 0.59775616, 0.60414701,\n",
       "        0.60425675, 0.61002889, 0.6105516 , 0.61063342, 0.61479341,\n",
       "        0.61480321, 0.615762  , 0.61696164, 0.61741426, 0.61756148,\n",
       "        0.62326662, 0.62633545, 0.62976822, 0.63027205, 0.63099192,\n",
       "        0.63138303, 0.6365737 , 0.64195634, 0.64201524, 0.64245102,\n",
       "        0.64343568, 0.64607523, 0.65604745, 0.65680047, 0.65750674,\n",
       "        0.66282843, 0.66632749, 0.66673782, 0.66988743, 0.67337501,\n",
       "        0.67536451, 0.67871435, 0.68328917, 0.68462196, 0.6853146 ,\n",
       "        0.68751413, 0.68958664, 0.69662655, 0.6974353 , 0.69939466,\n",
       "        0.70106095, 0.70431318, 0.70444091, 0.70834774, 0.71234923,\n",
       "        0.71650379, 0.71860905, 0.72056309, 0.72179098, 0.72366679,\n",
       "        0.72596784, 0.7301636 , 0.73323206, 0.73652362, 0.73944563,\n",
       "        0.73944858, 0.73945521, 0.73946258, 0.73947142, 0.73951709,\n",
       "        0.74061477, 0.74109929, 0.74966342, 0.7507993 , 0.75959209,\n",
       "        0.75964256, 0.76071314, 0.76174162, 0.76449922, 0.76543587,\n",
       "        0.76688262, 0.76723777, 0.76849735, 0.76911615, 0.76994709,\n",
       "        0.77035321, 0.77206209, 0.77740229, 0.77867182, 0.77867446,\n",
       "        0.77971739, 0.78330046, 0.7833118 , 0.7888044 , 0.7918927 ,\n",
       "        0.79623785, 0.79756201, 0.79761386, 0.80154991, 0.80522681,\n",
       "        0.81544934, 0.81786302, 0.81807581, 0.82594403, 0.82624289,\n",
       "        0.82878201, 0.82922608, 0.83549564, 0.8400571 , 0.84007818,\n",
       "        0.8420721 , 0.842468  , 0.84699498, 0.84871142, 0.85199655,\n",
       "        0.85602537, 0.85897631, 0.85930381, 0.86182254, 0.86650673,\n",
       "        0.86658838, 0.86958286, 0.87119994, 0.87140591, 0.8740534 ,\n",
       "        0.87675003, 0.87698032, 0.88120813, 0.88192898, 0.882269  ,\n",
       "        0.88301657, 0.88399085, 0.88445256, 0.88589194, 0.88740845,\n",
       "        0.88750928, 0.88951102, 0.89026234, 0.89276127, 0.89310332,\n",
       "        0.89403826, 0.89624574, 0.90262518, 0.90283838, 0.90439142,\n",
       "        0.90679785, 0.90774317, 0.90787431, 0.90984453, 0.91022782,\n",
       "        0.91239743, 0.9127026 , 0.9128218 , 0.91332681, 0.91338725,\n",
       "        0.9174081 , 0.91955256, 0.9200265 , 0.9237893 , 0.92667421,\n",
       "        0.92678812, 0.92768494, 0.92774455, 0.92776513, 0.92778752,\n",
       "        0.92780797, 0.9294128 , 0.92961143, 0.93084809, 0.93176983,\n",
       "        0.93278673, 0.93524242, 0.93582752, 0.93585778, 0.93675605,\n",
       "        0.93766291, 0.93815123, 0.94008961, 0.94073495, 0.94121425,\n",
       "        0.94208812, 0.94333568, 0.94480901, 0.94652309, 0.94708286,\n",
       "        0.94743522, 0.94806499, 0.94835085, 0.9522231 , 0.95270313,\n",
       "        0.95378516]))"
      ]
     },
     "execution_count": 153,
     "metadata": {},
     "output_type": "execute_result"
    }
   ],
   "source": [
    "#calculating precision-recall curve\n",
    "precision,recall,thresholds=precision_recall_curve(y_training_data, probs)\n",
    "precision,recall,thresholds"
   ]
  },
  {
   "cell_type": "code",
   "execution_count": null,
   "id": "f3d78d9c-32fc-4ef0-8d2a-121a84aaa03f",
   "metadata": {},
   "outputs": [],
   "source": []
  }
 ],
 "metadata": {
  "kernelspec": {
   "display_name": "Python 3 (ipykernel)",
   "language": "python",
   "name": "python3"
  },
  "language_info": {
   "codemirror_mode": {
    "name": "ipython",
    "version": 3
   },
   "file_extension": ".py",
   "mimetype": "text/x-python",
   "name": "python",
   "nbconvert_exporter": "python",
   "pygments_lexer": "ipython3",
   "version": "3.11.4"
  }
 },
 "nbformat": 4,
 "nbformat_minor": 5
}
