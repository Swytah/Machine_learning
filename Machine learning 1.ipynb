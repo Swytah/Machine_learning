{
 "cells": [
  {
   "cell_type": "raw",
   "id": "40a47bbc-1172-4ee0-807a-9980041558e0",
   "metadata": {},
   "source": [
    "# ML"
   ]
  },
  {
   "cell_type": "raw",
   "id": "5639603f-7946-4775-9688-e31221ff81b3",
   "metadata": {},
   "source": [
    "Regression in Machine Learning\n",
    "It is a supervised machine learning technique, used to predict the value of the dependent variable for new, unseen data. It models the relationship between the input features and the target variable, allowing for the estimation or prediction of numerical values.\n",
    "(Models)\n",
    "(A) Regression:\n",
    "    1.linear regression\n",
    "    2. descision regressor\n",
    "    3. random forest regressor\n",
    "(B) Classification\n",
    "    1. Logistic regression\n",
    "    2. Desicicon tree classifier\n",
    "    3. Random forest classifier"
   ]
  },
  {
   "cell_type": "code",
   "execution_count": 7,
   "id": "9b5c1e27-d67f-494e-a03c-408f530a807b",
   "metadata": {},
   "outputs": [
    {
     "data": {
      "text/html": [
       "<div>\n",
       "<style scoped>\n",
       "    .dataframe tbody tr th:only-of-type {\n",
       "        vertical-align: middle;\n",
       "    }\n",
       "\n",
       "    .dataframe tbody tr th {\n",
       "        vertical-align: top;\n",
       "    }\n",
       "\n",
       "    .dataframe thead th {\n",
       "        text-align: right;\n",
       "    }\n",
       "</style>\n",
       "<table border=\"1\" class=\"dataframe\">\n",
       "  <thead>\n",
       "    <tr style=\"text-align: right;\">\n",
       "      <th></th>\n",
       "      <th>Name</th>\n",
       "      <th>Class</th>\n",
       "      <th>Study Hours</th>\n",
       "      <th>Play Hours</th>\n",
       "      <th>Marks</th>\n",
       "    </tr>\n",
       "  </thead>\n",
       "  <tbody>\n",
       "    <tr>\n",
       "      <th>0</th>\n",
       "      <td>Satyam</td>\n",
       "      <td>X</td>\n",
       "      <td>5</td>\n",
       "      <td>2</td>\n",
       "      <td>70</td>\n",
       "    </tr>\n",
       "    <tr>\n",
       "      <th>1</th>\n",
       "      <td>Harshit</td>\n",
       "      <td>X</td>\n",
       "      <td>2</td>\n",
       "      <td>5</td>\n",
       "      <td>30</td>\n",
       "    </tr>\n",
       "    <tr>\n",
       "      <th>2</th>\n",
       "      <td>Harshita</td>\n",
       "      <td>X</td>\n",
       "      <td>8</td>\n",
       "      <td>1</td>\n",
       "      <td>80</td>\n",
       "    </tr>\n",
       "    <tr>\n",
       "      <th>3</th>\n",
       "      <td>Amit</td>\n",
       "      <td>X</td>\n",
       "      <td>6</td>\n",
       "      <td>3</td>\n",
       "      <td>65</td>\n",
       "    </tr>\n",
       "    <tr>\n",
       "      <th>4</th>\n",
       "      <td>Neha</td>\n",
       "      <td>X</td>\n",
       "      <td>9</td>\n",
       "      <td>1</td>\n",
       "      <td>85</td>\n",
       "    </tr>\n",
       "    <tr>\n",
       "      <th>5</th>\n",
       "      <td>Rohit</td>\n",
       "      <td>X</td>\n",
       "      <td>4</td>\n",
       "      <td>4</td>\n",
       "      <td>55</td>\n",
       "    </tr>\n",
       "    <tr>\n",
       "      <th>6</th>\n",
       "      <td>Priya</td>\n",
       "      <td>X</td>\n",
       "      <td>10</td>\n",
       "      <td>1</td>\n",
       "      <td>90</td>\n",
       "    </tr>\n",
       "    <tr>\n",
       "      <th>7</th>\n",
       "      <td>Ankit</td>\n",
       "      <td>X</td>\n",
       "      <td>3</td>\n",
       "      <td>5</td>\n",
       "      <td>45</td>\n",
       "    </tr>\n",
       "    <tr>\n",
       "      <th>8</th>\n",
       "      <td>Kavya</td>\n",
       "      <td>X</td>\n",
       "      <td>12</td>\n",
       "      <td>0</td>\n",
       "      <td>95</td>\n",
       "    </tr>\n",
       "    <tr>\n",
       "      <th>9</th>\n",
       "      <td>Vikas</td>\n",
       "      <td>X</td>\n",
       "      <td>3</td>\n",
       "      <td>5</td>\n",
       "      <td>50</td>\n",
       "    </tr>\n",
       "  </tbody>\n",
       "</table>\n",
       "</div>"
      ],
      "text/plain": [
       "       Name Class  Study Hours  Play Hours  Marks\n",
       "0    Satyam     X            5           2     70\n",
       "1   Harshit     X            2           5     30\n",
       "2  Harshita     X            8           1     80\n",
       "3      Amit     X            6           3     65\n",
       "4      Neha     X            9           1     85\n",
       "5     Rohit     X            4           4     55\n",
       "6     Priya     X           10           1     90\n",
       "7     Ankit     X            3           5     45\n",
       "8     Kavya     X           12           0     95\n",
       "9     Vikas     X            3           5     50"
      ]
     },
     "execution_count": 7,
     "metadata": {},
     "output_type": "execute_result"
    }
   ],
   "source": [
    "import pandas as pd\n",
    "\n",
    "# Create the dataset\n",
    "data = {\n",
    "    'Name': ['Satyam', 'Harshit', 'Harshita', 'Amit', 'Neha', 'Rohit', 'Priya', 'Ankit', 'Kavya', 'Vikas'],\n",
    "    'Class': ['X']*10,\n",
    "    'Study Hours': [5, 2, 8, 6, 9, 4, 10, 3, 12, 3],\n",
    "    'Play Hours': [2, 5, 1, 3, 1, 4, 1, 5, 0, 5],\n",
    "    'Marks': [70, 30, 80, 65, 85, 55, 90, 45, 95, 50]\n",
    "}\n",
    "\n",
    "df = pd.DataFrame(data)\n",
    "df\n",
    "#some data has outliers means that value which is odd one"
   ]
  },
  {
   "cell_type": "code",
   "execution_count": 8,
   "id": "705ca251-f013-4cb4-bd03-d2751099e3eb",
   "metadata": {},
   "outputs": [
    {
     "name": "stdout",
     "output_type": "stream",
     "text": [
      "Coefficients: [ 2.96178344 -5.03184713]\n",
      "Intercept: 63.566878980891715\n",
      "   Actual  Predicted\n",
      "8      95   99.10828\n",
      "1      30   44.33121\n"
     ]
    }
   ],
   "source": [
    "\n",
    "#now building linear regression model simple\n",
    "\n",
    "import numpy as np\n",
    "from sklearn.linear_model import LinearRegression\n",
    "from sklearn.model_selection import train_test_split\n",
    "\n",
    "# Define features and target\n",
    "X = df[['Study Hours', 'Play Hours']]# independent data\n",
    "y = df['Marks']#predicting data how it will be affected\n",
    "\n",
    "# Split the data into training and testing sets\n",
    "X_train, X_test, y_train, y_test = train_test_split(X, y, test_size=0.2, random_state=42)\n",
    "\n",
    "# Create and train the model\n",
    "model = LinearRegression()\n",
    "model.fit(X_train, y_train)\n",
    "\n",
    "# Predict the marks\n",
    "y_pred = model.predict(X_test)\n",
    "\n",
    "# Output the coefficients and intercept of the model\n",
    "print(f\"Coefficients: {model.coef_}\")\n",
    "print(f\"Intercept: {model.intercept_}\")\n",
    "\n",
    "# Output the predictions and actual values\n",
    "predictions = pd.DataFrame({'Actual': y_test, 'Predicted': y_pred})\n",
    "print(predictions)\n"
   ]
  },
  {
   "cell_type": "raw",
   "id": "968500aa-21be-4566-8df5-f4b5a5d03e82",
   "metadata": {},
   "source": [
    "random_state=42 is used to control the randomness of the data split when you divide your dataset into training and testing sets.\n",
    "When you split data into training and testing sets, the split is done randomly by default. This means that every time you run the code, you could get different data in the training and testing sets, which can lead to different results.\n",
    "By setting random_state=42, you ensure that the data is split in the same way every time the code is run, which makes your results reproducible. The number 42 itself has no special meaning; it’s just a commonly used value. You could use any integer.\n",
    "\n",
    "model.fit(X_train, y_train) is the method used to train the linear regression model.\n",
    "What it does:\n",
    "It takes the training data (X_train and y_train) and learns the relationship between the features (study hours, play hours) and the target (marks).\n",
    "The model learns this relationship by finding the best-fitting line (in the case of linear regression) that minimizes the difference between the predicted and actual marks.\n",
    "What it returns:\n",
    "model.fit() itself doesn’t return anything visible (it returns the model object), but it updates the internal parameters of the model, such as the coefficients and intercept. These are stored in the model and can be accessed later (e.g., using model.coef_ and model.intercept_).\n",
    "\n",
    "\n",
    "y_pred = model.predict(X_test) is used to make predictions using the trained model.\n",
    "How it works:\n",
    "The X_test data contains the test set of features (study hours and play hours for students not seen during training).\n",
    "The model uses the learned relationship (from model.fit()) to predict the marks (y_pred) for these test set students.\n",
    "Does X_test contain two values?:\n",
    "Yes, X_test contains two columns: 'Study Hours' and 'Play Hours'. Each row in X_test corresponds to a student, and the model uses these two values to predict the student’s marks.\n",
    "\n",
    "\n",
    "Coefficients (model.coef_): These are the slopes of the line with respect to each feature (study hours and play hours). They tell you how much the predicted marks will change if you increase study hours or play hours by one unit, holding the other feature constant.\n",
    "Intercept (model.intercept_): This is where the line crosses the y-axis. It represents the predicted marks when both study hours and play hours are zero.\n",
    "Graph Explanation:\n",
    "\n",
    "Imagine a 3D graph where:\n",
    "The x-axis is Study Hours.\n",
    "The y-axis is Play Hours.\n",
    "The z-axis is Marks.\n",
    "The linear regression model fits a plane (instead of a line, since there are two features) to the data points. This plane represents the best predictions of marks based on the study and play hours.\n",
    "The coefficients determine the tilt of this plane in the direction of each axis (study hours and play hours).\n",
    "\n",
    "\n",
    "How it works:\n",
    "y_test contains the actual marks for the test data.\n",
    "y_pred contains the predicted marks generated by the model for the same test data.\n",
    "A DataFrame called predictions is created with two columns: 'Actual' and 'Predicted'.\n",
    "This DataFrame shows side by side how well the model's predictions match the actual results.\n",
    "Purpose:\n",
    "By looking at this DataFrame, you can visually inspect how close the predictions are to the actual values. This is an important step in evaluating the performance of your model.\n"
   ]
  },
  {
   "cell_type": "code",
   "execution_count": 9,
   "id": "1c47b961-e77f-4171-8d3c-9961bf665a88",
   "metadata": {},
   "outputs": [
    {
     "name": "stdout",
     "output_type": "stream",
     "text": [
      "[44.33121019]\n",
      "[13.24840764]\n"
     ]
    },
    {
     "name": "stderr",
     "output_type": "stream",
     "text": [
      "C:\\Users\\naths\\AppData\\Local\\Programs\\Python\\Python311\\Lib\\site-packages\\sklearn\\base.py:493: UserWarning: X does not have valid feature names, but LinearRegression was fitted with feature names\n",
      "  warnings.warn(\n",
      "C:\\Users\\naths\\AppData\\Local\\Programs\\Python\\Python311\\Lib\\site-packages\\sklearn\\base.py:493: UserWarning: X does not have valid feature names, but LinearRegression was fitted with feature names\n",
      "  warnings.warn(\n"
     ]
    }
   ],
   "source": [
    "#lets see how it will predict\n",
    "result=model.predict([[2,5]])#1st value is study, 2nd value is play\n",
    "print(result)\n",
    "re=model.predict([[0,10]])\n",
    "print(re)"
   ]
  },
  {
   "cell_type": "raw",
   "id": "afc8732c-0ef3-4b46-99d3-71cccb2db6ee",
   "metadata": {},
   "source": [
    "for checking the efficience of the model we have many metrices but mainly we will discuss MSE,MAE,RMSE,R2,Adjusted R2"
   ]
  },
  {
   "cell_type": "code",
   "execution_count": 13,
   "id": "e7b28966-ce97-44fd-94e7-cdbc76b359f5",
   "metadata": {},
   "outputs": [
    {
     "name": "stdout",
     "output_type": "stream",
     "text": [
      "Mean Squared Error: 111.13077609639318\n"
     ]
    },
    {
     "data": {
      "text/plain": [
       "32.947599999999944"
      ]
     },
     "execution_count": 13,
     "metadata": {},
     "output_type": "execute_result"
    }
   ],
   "source": [
    "from sklearn.metrics import mean_squared_error\n",
    "\n",
    "# Assuming y_test and y_pred are defined from your previous model predictions\n",
    "mse = mean_squared_error(y_test, y_pred)\n",
    "\n",
    "print(f\"Mean Squared Error: {mse}\")\n",
    "mean_squared_error([85],[79.26])"
   ]
  },
  {
   "cell_type": "code",
   "execution_count": 15,
   "id": "06242c62-a78c-4a75-b206-fc8a42891b48",
   "metadata": {},
   "outputs": [
    {
     "data": {
      "text/plain": [
       "9.21974522292993"
      ]
     },
     "execution_count": 15,
     "metadata": {},
     "output_type": "execute_result"
    }
   ],
   "source": [
    "#MAE mean absolute error\n",
    "from sklearn.metrics import mean_absolute_error\n",
    "mean_absolute_error(y_test, y_pred)"
   ]
  },
  {
   "cell_type": "raw",
   "id": "4acca2ad-8dfe-4df6-9779-3ae53c6c50f7",
   "metadata": {},
   "source": [
    "Classification"
   ]
  },
  {
   "cell_type": "code",
   "execution_count": 25,
   "id": "1fbd03d6-8a66-465d-8ba7-b42d7654407a",
   "metadata": {},
   "outputs": [
    {
     "data": {
      "text/html": [
       "<div>\n",
       "<style scoped>\n",
       "    .dataframe tbody tr th:only-of-type {\n",
       "        vertical-align: middle;\n",
       "    }\n",
       "\n",
       "    .dataframe tbody tr th {\n",
       "        vertical-align: top;\n",
       "    }\n",
       "\n",
       "    .dataframe thead th {\n",
       "        text-align: right;\n",
       "    }\n",
       "</style>\n",
       "<table border=\"1\" class=\"dataframe\">\n",
       "  <thead>\n",
       "    <tr style=\"text-align: right;\">\n",
       "      <th></th>\n",
       "      <th>Name</th>\n",
       "      <th>Class</th>\n",
       "      <th>Study Hours</th>\n",
       "      <th>Play Hours</th>\n",
       "      <th>Marks</th>\n",
       "      <th>Pass/Fail</th>\n",
       "    </tr>\n",
       "  </thead>\n",
       "  <tbody>\n",
       "    <tr>\n",
       "      <th>0</th>\n",
       "      <td>Satyam</td>\n",
       "      <td>X</td>\n",
       "      <td>5</td>\n",
       "      <td>2</td>\n",
       "      <td>70</td>\n",
       "      <td>Pass</td>\n",
       "    </tr>\n",
       "    <tr>\n",
       "      <th>1</th>\n",
       "      <td>Harshit</td>\n",
       "      <td>X</td>\n",
       "      <td>2</td>\n",
       "      <td>5</td>\n",
       "      <td>30</td>\n",
       "      <td>Fail</td>\n",
       "    </tr>\n",
       "    <tr>\n",
       "      <th>2</th>\n",
       "      <td>Harshita</td>\n",
       "      <td>X</td>\n",
       "      <td>8</td>\n",
       "      <td>1</td>\n",
       "      <td>80</td>\n",
       "      <td>Pass</td>\n",
       "    </tr>\n",
       "    <tr>\n",
       "      <th>3</th>\n",
       "      <td>Amit</td>\n",
       "      <td>X</td>\n",
       "      <td>6</td>\n",
       "      <td>3</td>\n",
       "      <td>65</td>\n",
       "      <td>Pass</td>\n",
       "    </tr>\n",
       "    <tr>\n",
       "      <th>4</th>\n",
       "      <td>Neha</td>\n",
       "      <td>X</td>\n",
       "      <td>9</td>\n",
       "      <td>1</td>\n",
       "      <td>85</td>\n",
       "      <td>Pass</td>\n",
       "    </tr>\n",
       "    <tr>\n",
       "      <th>5</th>\n",
       "      <td>Rohit</td>\n",
       "      <td>X</td>\n",
       "      <td>4</td>\n",
       "      <td>4</td>\n",
       "      <td>55</td>\n",
       "      <td>Pass</td>\n",
       "    </tr>\n",
       "    <tr>\n",
       "      <th>6</th>\n",
       "      <td>Priya</td>\n",
       "      <td>X</td>\n",
       "      <td>10</td>\n",
       "      <td>1</td>\n",
       "      <td>90</td>\n",
       "      <td>Pass</td>\n",
       "    </tr>\n",
       "    <tr>\n",
       "      <th>7</th>\n",
       "      <td>Ankit</td>\n",
       "      <td>X</td>\n",
       "      <td>3</td>\n",
       "      <td>5</td>\n",
       "      <td>45</td>\n",
       "      <td>Fail</td>\n",
       "    </tr>\n",
       "    <tr>\n",
       "      <th>8</th>\n",
       "      <td>Kavya</td>\n",
       "      <td>X</td>\n",
       "      <td>12</td>\n",
       "      <td>0</td>\n",
       "      <td>95</td>\n",
       "      <td>Pass</td>\n",
       "    </tr>\n",
       "    <tr>\n",
       "      <th>9</th>\n",
       "      <td>Vikas</td>\n",
       "      <td>X</td>\n",
       "      <td>3</td>\n",
       "      <td>5</td>\n",
       "      <td>50</td>\n",
       "      <td>Pass</td>\n",
       "    </tr>\n",
       "  </tbody>\n",
       "</table>\n",
       "</div>"
      ],
      "text/plain": [
       "       Name Class  Study Hours  Play Hours  Marks Pass/Fail\n",
       "0    Satyam     X            5           2     70      Pass\n",
       "1   Harshit     X            2           5     30      Fail\n",
       "2  Harshita     X            8           1     80      Pass\n",
       "3      Amit     X            6           3     65      Pass\n",
       "4      Neha     X            9           1     85      Pass\n",
       "5     Rohit     X            4           4     55      Pass\n",
       "6     Priya     X           10           1     90      Pass\n",
       "7     Ankit     X            3           5     45      Fail\n",
       "8     Kavya     X           12           0     95      Pass\n",
       "9     Vikas     X            3           5     50      Pass"
      ]
     },
     "execution_count": 25,
     "metadata": {},
     "output_type": "execute_result"
    }
   ],
   "source": [
    "import pandas as pd\n",
    "\n",
    "# Create the dataset\n",
    "data = {\n",
    "    'Name': ['Satyam', 'Harshit', 'Harshita', 'Amit', 'Neha', 'Rohit', 'Priya', 'Ankit', 'Kavya', 'Vikas'],\n",
    "    'Class': ['X']*10,\n",
    "    'Study Hours': [5, 2, 8, 6, 9, 4, 10, 3, 12, 3],\n",
    "    'Play Hours': [2, 5, 1, 3, 1, 4, 1, 5, 0, 5],\n",
    "    'Marks': [70, 30, 80, 65, 85, 55, 90, 45, 95, 50]\n",
    "}\n",
    "\n",
    "df = pd.DataFrame(data)\n",
    "\n",
    "# Create Pass/Fail column based on Marks\n",
    "df['Pass/Fail'] = df['Marks'].apply(lambda x: 'Pass' if x >= 50 else 'Fail')\n",
    "\n",
    "df"
   ]
  },
  {
   "cell_type": "code",
   "execution_count": 26,
   "id": "3d1fcc92-27ee-4dc1-aa65-89afffc26c51",
   "metadata": {},
   "outputs": [
    {
     "name": "stdout",
     "output_type": "stream",
     "text": [
      "Accuracy: 0.5\n",
      "Classification Report:\n",
      "              precision    recall  f1-score   support\n",
      "\n",
      "           0       0.00      0.00      0.00         1\n",
      "           1       0.50      1.00      0.67         1\n",
      "\n",
      "    accuracy                           0.50         2\n",
      "   macro avg       0.25      0.50      0.33         2\n",
      "weighted avg       0.25      0.50      0.33         2\n",
      "\n"
     ]
    },
    {
     "name": "stderr",
     "output_type": "stream",
     "text": [
      "C:\\Users\\naths\\AppData\\Local\\Programs\\Python\\Python311\\Lib\\site-packages\\sklearn\\metrics\\_classification.py:1531: UndefinedMetricWarning: Precision is ill-defined and being set to 0.0 in labels with no predicted samples. Use `zero_division` parameter to control this behavior.\n",
      "  _warn_prf(average, modifier, f\"{metric.capitalize()} is\", len(result))\n",
      "C:\\Users\\naths\\AppData\\Local\\Programs\\Python\\Python311\\Lib\\site-packages\\sklearn\\metrics\\_classification.py:1531: UndefinedMetricWarning: Precision is ill-defined and being set to 0.0 in labels with no predicted samples. Use `zero_division` parameter to control this behavior.\n",
      "  _warn_prf(average, modifier, f\"{metric.capitalize()} is\", len(result))\n",
      "C:\\Users\\naths\\AppData\\Local\\Programs\\Python\\Python311\\Lib\\site-packages\\sklearn\\metrics\\_classification.py:1531: UndefinedMetricWarning: Precision is ill-defined and being set to 0.0 in labels with no predicted samples. Use `zero_division` parameter to control this behavior.\n",
      "  _warn_prf(average, modifier, f\"{metric.capitalize()} is\", len(result))\n"
     ]
    }
   ],
   "source": [
    "from sklearn.linear_model import LogisticRegression\n",
    "from sklearn.model_selection import train_test_split\n",
    "from sklearn.metrics import accuracy_score, classification_report\n",
    "\n",
    "# Encode the Pass/Fail column\n",
    "df['Pass/Fail'] = df['Pass/Fail'].map({'Pass': 1, 'Fail': 0})\n",
    "\n",
    "# Define features and target\n",
    "X = df[['Study Hours', 'Play Hours']]\n",
    "y = df['Pass/Fail']\n",
    "\n",
    "# Split the data into training and testing sets\n",
    "X_train, X_test, y_train, y_test = train_test_split(X, y, test_size=0.2, random_state=42)\n",
    "\n",
    "# Create and train the model\n",
    "model = LogisticRegression()\n",
    "model.fit(X_train, y_train)\n",
    "\n",
    "# Predict the Pass/Fail\n",
    "y_pred = model.predict(X_test)\n",
    "\n",
    "# Output the accuracy and classification report\n",
    "accuracy = accuracy_score(y_test, y_pred)\n",
    "report = classification_report(y_test, y_pred)\n",
    "\n",
    "print(f\"Accuracy: {accuracy}\")\n",
    "print(f\"Classification Report:\\n{report}\")\n"
   ]
  },
  {
   "cell_type": "raw",
   "id": "70bb0330-d027-49a8-9455-f2c88f5c79fe",
   "metadata": {},
   "source": [
    "accuracy_score: A metric to calculate how often the model's predictions are correct.\n",
    "classification_report: Provides detailed performance metrics like precision, recall, and F1-score.\n",
    "\n",
    "model.fit(X_train, y_train): Trains the model using the training data. The model learns the relationship between study/play hours and the pass/fail outcome.\n",
    "\n",
    "accuracy_score(y_test, y_pred): Calculates the accuracy, which is the percentage of correct predictions out of all predictions made.\n",
    "classification_report(y_test, y_pred): Generates a report that includes:\n",
    "Precision: The proportion of true positive predictions among all positive predictions.\n",
    "Recall: The proportion of true positive predictions among all actual positives.\n",
    "F1-Score: A weighted average of precision and recall, especially useful when you need to balance both.\n",
    "Support: The number of actual occurrences of each class (Pass or Fail).\n",
    "What This Code Will Do:\n",
    "Accuracy: Tells you how often the model correctly predicted whether a student would pass or fail.\n",
    "Classification Report: Provides more detailed insights into how well the model is performing, including its strengths and weaknesses in predicting each class (Pass and Fail)."
   ]
  },
  {
   "cell_type": "code",
   "execution_count": 29,
   "id": "2b7b2ea5-802b-479a-85a1-4e9aec3163d7",
   "metadata": {},
   "outputs": [
    {
     "name": "stderr",
     "output_type": "stream",
     "text": [
      "C:\\Users\\naths\\AppData\\Local\\Programs\\Python\\Python311\\Lib\\site-packages\\sklearn\\base.py:493: UserWarning: X does not have valid feature names, but LogisticRegression was fitted with feature names\n",
      "  warnings.warn(\n"
     ]
    },
    {
     "data": {
      "text/plain": [
       "array([1], dtype=int64)"
      ]
     },
     "execution_count": 29,
     "metadata": {},
     "output_type": "execute_result"
    }
   ],
   "source": [
    "#lets try ths logistic regression too\n",
    "model.predict([[5,5]])"
   ]
  },
  {
   "cell_type": "raw",
   "id": "36bbb73b-48dd-4b55-bb64-de4ebe371a82",
   "metadata": {},
   "source": [
    "for cheching the accuracy of the model we use accuracy_score (evalutaion)"
   ]
  },
  {
   "cell_type": "code",
   "execution_count": 33,
   "id": "f0a3c8e5-99cc-4533-9135-20f565988d88",
   "metadata": {},
   "outputs": [
    {
     "data": {
      "text/plain": [
       "0.5"
      ]
     },
     "execution_count": 33,
     "metadata": {},
     "output_type": "execute_result"
    }
   ],
   "source": [
    "# lets try this on any example\n",
    "import numpy as np\n",
    "y_pred = np.array([1, 0,1,1,0,1])\n",
    "y_actual=np.array([1, 1,0,1,0,0])\n",
    "accuracy_score(y_actual,y_pred)"
   ]
  },
  {
   "cell_type": "code",
   "execution_count": 36,
   "id": "9b263ee9-23b2-45f6-8f01-9445e8f356ee",
   "metadata": {},
   "outputs": [
    {
     "data": {
      "text/plain": [
       "(   Study Hours  Play Hours\n",
       " 5            4           4\n",
       " 0            5           2\n",
       " 7            3           5\n",
       " 2            8           1\n",
       " 9            3           5\n",
       " 4            9           1\n",
       " 3            6           3\n",
       " 6           10           1,\n",
       " 5    1\n",
       " 0    1\n",
       " 7    0\n",
       " 2    1\n",
       " 9    1\n",
       " 4    1\n",
       " 3    1\n",
       " 6    1\n",
       " Name: Pass/Fail, dtype: int64)"
      ]
     },
     "execution_count": 36,
     "metadata": {},
     "output_type": "execute_result"
    }
   ],
   "source": [
    "X_train, y_train"
   ]
  },
  {
   "cell_type": "code",
   "execution_count": 37,
   "id": "511e1d67-a272-4817-ab61-e582be418a25",
   "metadata": {},
   "outputs": [
    {
     "data": {
      "text/plain": [
       "(   Study Hours  Play Hours\n",
       " 8           12           0\n",
       " 1            2           5,\n",
       " 8    1\n",
       " 1    0\n",
       " Name: Pass/Fail, dtype: int64)"
      ]
     },
     "execution_count": 37,
     "metadata": {},
     "output_type": "execute_result"
    }
   ],
   "source": [
    "X_test,  y_test"
   ]
  },
  {
   "cell_type": "code",
   "execution_count": 38,
   "id": "6faaa4ae-9fed-40bc-829f-c6ac6f8eec55",
   "metadata": {},
   "outputs": [
    {
     "data": {
      "text/plain": [
       "array([1, 1], dtype=int64)"
      ]
     },
     "execution_count": 38,
     "metadata": {},
     "output_type": "execute_result"
    }
   ],
   "source": [
    "model.predict(X_test)"
   ]
  },
  {
   "cell_type": "code",
   "execution_count": 39,
   "id": "0ce0cb2f-ea0d-45f7-b41d-b9a2e5cc9cac",
   "metadata": {
    "scrolled": true
   },
   "outputs": [
    {
     "name": "stderr",
     "output_type": "stream",
     "text": [
      "C:\\Users\\naths\\AppData\\Local\\Programs\\Python\\Python311\\Lib\\site-packages\\sklearn\\metrics\\_classification.py:1531: UndefinedMetricWarning: Precision is ill-defined and being set to 0.0 in labels with no predicted samples. Use `zero_division` parameter to control this behavior.\n",
      "  _warn_prf(average, modifier, f\"{metric.capitalize()} is\", len(result))\n",
      "C:\\Users\\naths\\AppData\\Local\\Programs\\Python\\Python311\\Lib\\site-packages\\sklearn\\metrics\\_classification.py:1531: UndefinedMetricWarning: Precision is ill-defined and being set to 0.0 in labels with no predicted samples. Use `zero_division` parameter to control this behavior.\n",
      "  _warn_prf(average, modifier, f\"{metric.capitalize()} is\", len(result))\n",
      "C:\\Users\\naths\\AppData\\Local\\Programs\\Python\\Python311\\Lib\\site-packages\\sklearn\\metrics\\_classification.py:1531: UndefinedMetricWarning: Precision is ill-defined and being set to 0.0 in labels with no predicted samples. Use `zero_division` parameter to control this behavior.\n",
      "  _warn_prf(average, modifier, f\"{metric.capitalize()} is\", len(result))\n"
     ]
    },
    {
     "name": "stdout",
     "output_type": "stream",
     "text": [
      "Model: Logistic Regression\n",
      "Accuracy: 0.5\n",
      "Classification Report:\n",
      "              precision    recall  f1-score   support\n",
      "\n",
      "           0       0.00      0.00      0.00         1\n",
      "           1       0.50      1.00      0.67         1\n",
      "\n",
      "    accuracy                           0.50         2\n",
      "   macro avg       0.25      0.50      0.33         2\n",
      "weighted avg       0.25      0.50      0.33         2\n",
      "\n",
      "\n",
      "Model: Decision Tree\n",
      "Accuracy: 1.0\n",
      "Classification Report:\n",
      "              precision    recall  f1-score   support\n",
      "\n",
      "           0       1.00      1.00      1.00         1\n",
      "           1       1.00      1.00      1.00         1\n",
      "\n",
      "    accuracy                           1.00         2\n",
      "   macro avg       1.00      1.00      1.00         2\n",
      "weighted avg       1.00      1.00      1.00         2\n",
      "\n",
      "\n",
      "Model: Random Forest\n",
      "Accuracy: 1.0\n",
      "Classification Report:\n",
      "              precision    recall  f1-score   support\n",
      "\n",
      "           0       1.00      1.00      1.00         1\n",
      "           1       1.00      1.00      1.00         1\n",
      "\n",
      "    accuracy                           1.00         2\n",
      "   macro avg       1.00      1.00      1.00         2\n",
      "weighted avg       1.00      1.00      1.00         2\n",
      "\n",
      "\n",
      "Model: Support Vector Machine\n",
      "Accuracy: 0.5\n",
      "Classification Report:\n",
      "              precision    recall  f1-score   support\n",
      "\n",
      "           0       0.00      0.00      0.00         1\n",
      "           1       0.50      1.00      0.67         1\n",
      "\n",
      "    accuracy                           0.50         2\n",
      "   macro avg       0.25      0.50      0.33         2\n",
      "weighted avg       0.25      0.50      0.33         2\n",
      "\n",
      "\n"
     ]
    },
    {
     "name": "stderr",
     "output_type": "stream",
     "text": [
      "C:\\Users\\naths\\AppData\\Local\\Programs\\Python\\Python311\\Lib\\site-packages\\sklearn\\metrics\\_classification.py:1531: UndefinedMetricWarning: Precision is ill-defined and being set to 0.0 in labels with no predicted samples. Use `zero_division` parameter to control this behavior.\n",
      "  _warn_prf(average, modifier, f\"{metric.capitalize()} is\", len(result))\n",
      "C:\\Users\\naths\\AppData\\Local\\Programs\\Python\\Python311\\Lib\\site-packages\\sklearn\\metrics\\_classification.py:1531: UndefinedMetricWarning: Precision is ill-defined and being set to 0.0 in labels with no predicted samples. Use `zero_division` parameter to control this behavior.\n",
      "  _warn_prf(average, modifier, f\"{metric.capitalize()} is\", len(result))\n",
      "C:\\Users\\naths\\AppData\\Local\\Programs\\Python\\Python311\\Lib\\site-packages\\sklearn\\metrics\\_classification.py:1531: UndefinedMetricWarning: Precision is ill-defined and being set to 0.0 in labels with no predicted samples. Use `zero_division` parameter to control this behavior.\n",
      "  _warn_prf(average, modifier, f\"{metric.capitalize()} is\", len(result))\n"
     ]
    }
   ],
   "source": [
    "import pandas as pd\n",
    "from sklearn.model_selection import train_test_split\n",
    "from sklearn.linear_model import LogisticRegression\n",
    "from sklearn.tree import DecisionTreeClassifier\n",
    "from sklearn.ensemble import RandomForestClassifier\n",
    "from sklearn.svm import SVC\n",
    "from sklearn.metrics import accuracy_score, classification_report\n",
    "\n",
    "\n",
    "models = {\n",
    "    'Logistic Regression': LogisticRegression(),\n",
    "    'Decision Tree': DecisionTreeClassifier(),\n",
    "    'Random Forest': RandomForestClassifier(),\n",
    "    'Support Vector Machine': SVC()\n",
    "}\n",
    "\n",
    "# Train and evaluate each model\n",
    "results = {}\n",
    "for name, model in models.items():\n",
    "    model.fit(X_train, y_train)\n",
    "    y_pred = model.predict(X_test)\n",
    "    accuracy = accuracy_score(y_test, y_pred)\n",
    "    report = classification_report(y_test, y_pred)\n",
    "    results[name] = {\n",
    "        'Accuracy': accuracy,\n",
    "        'Classification Report': report\n",
    "    }\n",
    "\n",
    "# Print results\n",
    "for name, result in results.items():\n",
    "    print(f\"Model: {name}\")\n",
    "    print(f\"Accuracy: {result['Accuracy']}\")\n",
    "    print(f\"Classification Report:\\n{result['Classification Report']}\\n\")"
   ]
  },
  {
   "cell_type": "raw",
   "id": "2e452183-e0aa-413a-9ca6-45fdad74aad9",
   "metadata": {},
   "source": [
    "DecisionTreeClassifier: A model that uses a decision tree to make predictions.\n",
    "RandomForestClassifier: An ensemble model that builds multiple decision trees and merges them to get a more accurate and stable prediction.\n",
    "SVC: A Support Vector Classifier, useful for classification tasks by finding the hyperplane that best separates the data into classes."
   ]
  }
 ],
 "metadata": {
  "kernelspec": {
   "display_name": "Python 3 (ipykernel)",
   "language": "python",
   "name": "python3"
  },
  "language_info": {
   "codemirror_mode": {
    "name": "ipython",
    "version": 3
   },
   "file_extension": ".py",
   "mimetype": "text/x-python",
   "name": "python",
   "nbconvert_exporter": "python",
   "pygments_lexer": "ipython3",
   "version": "3.11.4"
  }
 },
 "nbformat": 4,
 "nbformat_minor": 5
}
